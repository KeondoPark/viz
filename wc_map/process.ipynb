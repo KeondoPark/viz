{
 "metadata": {
  "language_info": {
   "codemirror_mode": {
    "name": "ipython",
    "version": 3
   },
   "file_extension": ".py",
   "mimetype": "text/x-python",
   "name": "python",
   "nbconvert_exporter": "python",
   "pygments_lexer": "ipython3",
   "version": "3.7.9-final"
  },
  "orig_nbformat": 2,
  "kernelspec": {
   "name": "python3",
   "display_name": "Python 3"
  }
 },
 "nbformat": 4,
 "nbformat_minor": 2,
 "cells": [
  {
   "cell_type": "code",
   "execution_count": 13,
   "metadata": {},
   "outputs": [],
   "source": [
    "import pandas as pd\n",
    "from collections import OrderedDict, defaultdict"
   ]
  },
  {
   "cell_type": "code",
   "execution_count": 3,
   "metadata": {},
   "outputs": [
    {
     "output_type": "execute_result",
     "data": {
      "text/plain": [
       "                name                                   city  industry  \\\n",
       "0           SoftBank                    Tokyo, Tokyo, Japan         2   \n",
       "1          Citigroup      New York, New York, United States         2   \n",
       "2            Compass      New York, New York, United States         1   \n",
       "3           Facebook  Menlo Park, California, United States         3   \n",
       "4    Reliance Retail             Mumbai, Maharashtra, India         3   \n",
       "..               ...                                    ...       ...   \n",
       "995      Kraft Heinz      Mendota, Minnesota, United States        10   \n",
       "996           Zocdoc      New York, New York, United States         4   \n",
       "997          Infobip        London, England, United Kingdom         1   \n",
       "998      Pluralsight        Farmington, Utah, United States         8   \n",
       "999            Rebel           São Paulo, Sao Paulo, Brazil         2   \n",
       "\n",
       "       yyyymmdd        lat        long  \n",
       "0    1981/09/03  35.677769  139.764636  \n",
       "1    1998/10/08  40.712728  -74.006015  \n",
       "2    2012/10/04  40.712728  -74.006015  \n",
       "3    2004/02/04  37.451967 -122.177993  \n",
       "4    2006/01/01  18.938771   72.835335  \n",
       "..          ...        ...         ...  \n",
       "995  2015/07/02  44.887188  -93.164387  \n",
       "996  2007/09/18  40.712728  -74.006015  \n",
       "997  2006/01/01  51.507322   -0.127647  \n",
       "998  2004/01/01  40.980442 -111.887469  \n",
       "999  2016/01/01 -23.550651  -46.633382  \n",
       "\n",
       "[1000 rows x 6 columns]"
      ],
      "text/html": "<div>\n<style scoped>\n    .dataframe tbody tr th:only-of-type {\n        vertical-align: middle;\n    }\n\n    .dataframe tbody tr th {\n        vertical-align: top;\n    }\n\n    .dataframe thead th {\n        text-align: right;\n    }\n</style>\n<table border=\"1\" class=\"dataframe\">\n  <thead>\n    <tr style=\"text-align: right;\">\n      <th></th>\n      <th>name</th>\n      <th>city</th>\n      <th>industry</th>\n      <th>yyyymmdd</th>\n      <th>lat</th>\n      <th>long</th>\n    </tr>\n  </thead>\n  <tbody>\n    <tr>\n      <th>0</th>\n      <td>SoftBank</td>\n      <td>Tokyo, Tokyo, Japan</td>\n      <td>2</td>\n      <td>1981/09/03</td>\n      <td>35.677769</td>\n      <td>139.764636</td>\n    </tr>\n    <tr>\n      <th>1</th>\n      <td>Citigroup</td>\n      <td>New York, New York, United States</td>\n      <td>2</td>\n      <td>1998/10/08</td>\n      <td>40.712728</td>\n      <td>-74.006015</td>\n    </tr>\n    <tr>\n      <th>2</th>\n      <td>Compass</td>\n      <td>New York, New York, United States</td>\n      <td>1</td>\n      <td>2012/10/04</td>\n      <td>40.712728</td>\n      <td>-74.006015</td>\n    </tr>\n    <tr>\n      <th>3</th>\n      <td>Facebook</td>\n      <td>Menlo Park, California, United States</td>\n      <td>3</td>\n      <td>2004/02/04</td>\n      <td>37.451967</td>\n      <td>-122.177993</td>\n    </tr>\n    <tr>\n      <th>4</th>\n      <td>Reliance Retail</td>\n      <td>Mumbai, Maharashtra, India</td>\n      <td>3</td>\n      <td>2006/01/01</td>\n      <td>18.938771</td>\n      <td>72.835335</td>\n    </tr>\n    <tr>\n      <th>...</th>\n      <td>...</td>\n      <td>...</td>\n      <td>...</td>\n      <td>...</td>\n      <td>...</td>\n      <td>...</td>\n    </tr>\n    <tr>\n      <th>995</th>\n      <td>Kraft Heinz</td>\n      <td>Mendota, Minnesota, United States</td>\n      <td>10</td>\n      <td>2015/07/02</td>\n      <td>44.887188</td>\n      <td>-93.164387</td>\n    </tr>\n    <tr>\n      <th>996</th>\n      <td>Zocdoc</td>\n      <td>New York, New York, United States</td>\n      <td>4</td>\n      <td>2007/09/18</td>\n      <td>40.712728</td>\n      <td>-74.006015</td>\n    </tr>\n    <tr>\n      <th>997</th>\n      <td>Infobip</td>\n      <td>London, England, United Kingdom</td>\n      <td>1</td>\n      <td>2006/01/01</td>\n      <td>51.507322</td>\n      <td>-0.127647</td>\n    </tr>\n    <tr>\n      <th>998</th>\n      <td>Pluralsight</td>\n      <td>Farmington, Utah, United States</td>\n      <td>8</td>\n      <td>2004/01/01</td>\n      <td>40.980442</td>\n      <td>-111.887469</td>\n    </tr>\n    <tr>\n      <th>999</th>\n      <td>Rebel</td>\n      <td>São Paulo, Sao Paulo, Brazil</td>\n      <td>2</td>\n      <td>2016/01/01</td>\n      <td>-23.550651</td>\n      <td>-46.633382</td>\n    </tr>\n  </tbody>\n</table>\n<p>1000 rows × 6 columns</p>\n</div>"
     },
     "metadata": {},
     "execution_count": 3
    }
   ],
   "source": [
    "data = pd.read_csv('post_process_nov19.csv', index_col= 0)\n",
    "data"
   ]
  },
  {
   "cell_type": "code",
   "execution_count": 48,
   "metadata": {},
   "outputs": [
    {
     "output_type": "execute_result",
     "data": {
      "text/plain": [
       "                                             count                           \\\n",
       "industry                                        1    2    3    4    5    6    \n",
       "city                                                                          \n",
       "Altrincham, Cheshire, United Kingdom           NaN  NaN  NaN  1.0  NaN  NaN   \n",
       "American Fork, Utah, United States             NaN  NaN  NaN  NaN  1.0  NaN   \n",
       "Amsterdam, Noord-Holland, The Netherlands      1.0  3.0  1.0  NaN  NaN  NaN   \n",
       "Ann Arbor, Michigan, United States             NaN  NaN  NaN  NaN  1.0  NaN   \n",
       "Armonk, New York, United States                NaN  NaN  NaN  NaN  NaN  NaN   \n",
       "...                                            ...  ...  ...  ...  ...  ...   \n",
       "Wilmington, North Carolina, United States      NaN  1.0  NaN  NaN  NaN  NaN   \n",
       "Winston Salem, North Carolina, United States   1.0  NaN  NaN  NaN  NaN  NaN   \n",
       "Woodland Hills, California, United States      1.0  NaN  NaN  NaN  NaN  NaN   \n",
       "Zug, Zug, Switzerland                          1.0  NaN  NaN  NaN  NaN  1.0   \n",
       "Zürich, Zurich, Switzerland                    NaN  2.0  NaN  1.0  NaN  NaN   \n",
       "\n",
       "                                                                     \n",
       "industry                                       7   8    9   10   11  \n",
       "city                                                                 \n",
       "Altrincham, Cheshire, United Kingdom          NaN NaN  NaN NaN  NaN  \n",
       "American Fork, Utah, United States            NaN NaN  NaN NaN  NaN  \n",
       "Amsterdam, Noord-Holland, The Netherlands     NaN NaN  NaN NaN  1.0  \n",
       "Ann Arbor, Michigan, United States            NaN NaN  NaN NaN  NaN  \n",
       "Armonk, New York, United States               1.0 NaN  NaN NaN  NaN  \n",
       "...                                           ...  ..  ...  ..  ...  \n",
       "Wilmington, North Carolina, United States     NaN NaN  NaN NaN  NaN  \n",
       "Winston Salem, North Carolina, United States  NaN NaN  NaN NaN  NaN  \n",
       "Woodland Hills, California, United States     NaN NaN  NaN NaN  NaN  \n",
       "Zug, Zug, Switzerland                         NaN NaN  NaN NaN  NaN  \n",
       "Zürich, Zurich, Switzerland                   NaN NaN  1.0 NaN  NaN  \n",
       "\n",
       "[265 rows x 11 columns]"
      ],
      "text/html": "<div>\n<style scoped>\n    .dataframe tbody tr th:only-of-type {\n        vertical-align: middle;\n    }\n\n    .dataframe tbody tr th {\n        vertical-align: top;\n    }\n\n    .dataframe thead tr th {\n        text-align: left;\n    }\n\n    .dataframe thead tr:last-of-type th {\n        text-align: right;\n    }\n</style>\n<table border=\"1\" class=\"dataframe\">\n  <thead>\n    <tr>\n      <th></th>\n      <th colspan=\"11\" halign=\"left\">count</th>\n    </tr>\n    <tr>\n      <th>industry</th>\n      <th>1</th>\n      <th>2</th>\n      <th>3</th>\n      <th>4</th>\n      <th>5</th>\n      <th>6</th>\n      <th>7</th>\n      <th>8</th>\n      <th>9</th>\n      <th>10</th>\n      <th>11</th>\n    </tr>\n    <tr>\n      <th>city</th>\n      <th></th>\n      <th></th>\n      <th></th>\n      <th></th>\n      <th></th>\n      <th></th>\n      <th></th>\n      <th></th>\n      <th></th>\n      <th></th>\n      <th></th>\n    </tr>\n  </thead>\n  <tbody>\n    <tr>\n      <th>Altrincham, Cheshire, United Kingdom</th>\n      <td>NaN</td>\n      <td>NaN</td>\n      <td>NaN</td>\n      <td>1.0</td>\n      <td>NaN</td>\n      <td>NaN</td>\n      <td>NaN</td>\n      <td>NaN</td>\n      <td>NaN</td>\n      <td>NaN</td>\n      <td>NaN</td>\n    </tr>\n    <tr>\n      <th>American Fork, Utah, United States</th>\n      <td>NaN</td>\n      <td>NaN</td>\n      <td>NaN</td>\n      <td>NaN</td>\n      <td>1.0</td>\n      <td>NaN</td>\n      <td>NaN</td>\n      <td>NaN</td>\n      <td>NaN</td>\n      <td>NaN</td>\n      <td>NaN</td>\n    </tr>\n    <tr>\n      <th>Amsterdam, Noord-Holland, The Netherlands</th>\n      <td>1.0</td>\n      <td>3.0</td>\n      <td>1.0</td>\n      <td>NaN</td>\n      <td>NaN</td>\n      <td>NaN</td>\n      <td>NaN</td>\n      <td>NaN</td>\n      <td>NaN</td>\n      <td>NaN</td>\n      <td>1.0</td>\n    </tr>\n    <tr>\n      <th>Ann Arbor, Michigan, United States</th>\n      <td>NaN</td>\n      <td>NaN</td>\n      <td>NaN</td>\n      <td>NaN</td>\n      <td>1.0</td>\n      <td>NaN</td>\n      <td>NaN</td>\n      <td>NaN</td>\n      <td>NaN</td>\n      <td>NaN</td>\n      <td>NaN</td>\n    </tr>\n    <tr>\n      <th>Armonk, New York, United States</th>\n      <td>NaN</td>\n      <td>NaN</td>\n      <td>NaN</td>\n      <td>NaN</td>\n      <td>NaN</td>\n      <td>NaN</td>\n      <td>1.0</td>\n      <td>NaN</td>\n      <td>NaN</td>\n      <td>NaN</td>\n      <td>NaN</td>\n    </tr>\n    <tr>\n      <th>...</th>\n      <td>...</td>\n      <td>...</td>\n      <td>...</td>\n      <td>...</td>\n      <td>...</td>\n      <td>...</td>\n      <td>...</td>\n      <td>...</td>\n      <td>...</td>\n      <td>...</td>\n      <td>...</td>\n    </tr>\n    <tr>\n      <th>Wilmington, North Carolina, United States</th>\n      <td>NaN</td>\n      <td>1.0</td>\n      <td>NaN</td>\n      <td>NaN</td>\n      <td>NaN</td>\n      <td>NaN</td>\n      <td>NaN</td>\n      <td>NaN</td>\n      <td>NaN</td>\n      <td>NaN</td>\n      <td>NaN</td>\n    </tr>\n    <tr>\n      <th>Winston Salem, North Carolina, United States</th>\n      <td>1.0</td>\n      <td>NaN</td>\n      <td>NaN</td>\n      <td>NaN</td>\n      <td>NaN</td>\n      <td>NaN</td>\n      <td>NaN</td>\n      <td>NaN</td>\n      <td>NaN</td>\n      <td>NaN</td>\n      <td>NaN</td>\n    </tr>\n    <tr>\n      <th>Woodland Hills, California, United States</th>\n      <td>1.0</td>\n      <td>NaN</td>\n      <td>NaN</td>\n      <td>NaN</td>\n      <td>NaN</td>\n      <td>NaN</td>\n      <td>NaN</td>\n      <td>NaN</td>\n      <td>NaN</td>\n      <td>NaN</td>\n      <td>NaN</td>\n    </tr>\n    <tr>\n      <th>Zug, Zug, Switzerland</th>\n      <td>1.0</td>\n      <td>NaN</td>\n      <td>NaN</td>\n      <td>NaN</td>\n      <td>NaN</td>\n      <td>1.0</td>\n      <td>NaN</td>\n      <td>NaN</td>\n      <td>NaN</td>\n      <td>NaN</td>\n      <td>NaN</td>\n    </tr>\n    <tr>\n      <th>Zürich, Zurich, Switzerland</th>\n      <td>NaN</td>\n      <td>2.0</td>\n      <td>NaN</td>\n      <td>1.0</td>\n      <td>NaN</td>\n      <td>NaN</td>\n      <td>NaN</td>\n      <td>NaN</td>\n      <td>1.0</td>\n      <td>NaN</td>\n      <td>NaN</td>\n    </tr>\n  </tbody>\n</table>\n<p>265 rows × 11 columns</p>\n</div>"
     },
     "metadata": {},
     "execution_count": 48
    }
   ],
   "source": [
    "pdf = pd.pivot_table(data, index = 'city', columns = 'industry', values = 'lat', aggfunc=['count'])\n",
    "pdf"
   ]
  },
  {
   "cell_type": "code",
   "execution_count": 56,
   "metadata": {},
   "outputs": [
    {
     "output_type": "execute_result",
     "data": {
      "text/plain": [
       "                                             count                           \\\n",
       "industry                                        1    2    3    4    5    6    \n",
       "city                                                                          \n",
       "Altrincham, Cheshire, United Kingdom           NaN  NaN  NaN  1.0  NaN  NaN   \n",
       "American Fork, Utah, United States             NaN  NaN  NaN  NaN  1.0  NaN   \n",
       "Amsterdam, Noord-Holland, The Netherlands      1.0  3.0  1.0  NaN  NaN  NaN   \n",
       "Ann Arbor, Michigan, United States             NaN  NaN  NaN  NaN  1.0  NaN   \n",
       "Armonk, New York, United States                NaN  NaN  NaN  NaN  NaN  NaN   \n",
       "...                                            ...  ...  ...  ...  ...  ...   \n",
       "Wilmington, North Carolina, United States      NaN  1.0  NaN  NaN  NaN  NaN   \n",
       "Winston Salem, North Carolina, United States   1.0  NaN  NaN  NaN  NaN  NaN   \n",
       "Woodland Hills, California, United States      1.0  NaN  NaN  NaN  NaN  NaN   \n",
       "Zug, Zug, Switzerland                          1.0  NaN  NaN  NaN  NaN  1.0   \n",
       "Zürich, Zurich, Switzerland                    NaN  2.0  NaN  1.0  NaN  NaN   \n",
       "\n",
       "                                                                     \n",
       "industry                                       7   8    9   10   11  \n",
       "city                                                                 \n",
       "Altrincham, Cheshire, United Kingdom          NaN NaN  NaN NaN  NaN  \n",
       "American Fork, Utah, United States            NaN NaN  NaN NaN  NaN  \n",
       "Amsterdam, Noord-Holland, The Netherlands     NaN NaN  NaN NaN  1.0  \n",
       "Ann Arbor, Michigan, United States            NaN NaN  NaN NaN  NaN  \n",
       "Armonk, New York, United States               1.0 NaN  NaN NaN  NaN  \n",
       "...                                           ...  ..  ...  ..  ...  \n",
       "Wilmington, North Carolina, United States     NaN NaN  NaN NaN  NaN  \n",
       "Winston Salem, North Carolina, United States  NaN NaN  NaN NaN  NaN  \n",
       "Woodland Hills, California, United States     NaN NaN  NaN NaN  NaN  \n",
       "Zug, Zug, Switzerland                         NaN NaN  NaN NaN  NaN  \n",
       "Zürich, Zurich, Switzerland                   NaN NaN  1.0 NaN  NaN  \n",
       "\n",
       "[265 rows x 11 columns]"
      ],
      "text/html": "<div>\n<style scoped>\n    .dataframe tbody tr th:only-of-type {\n        vertical-align: middle;\n    }\n\n    .dataframe tbody tr th {\n        vertical-align: top;\n    }\n\n    .dataframe thead tr th {\n        text-align: left;\n    }\n\n    .dataframe thead tr:last-of-type th {\n        text-align: right;\n    }\n</style>\n<table border=\"1\" class=\"dataframe\">\n  <thead>\n    <tr>\n      <th></th>\n      <th colspan=\"11\" halign=\"left\">count</th>\n    </tr>\n    <tr>\n      <th>industry</th>\n      <th>1</th>\n      <th>2</th>\n      <th>3</th>\n      <th>4</th>\n      <th>5</th>\n      <th>6</th>\n      <th>7</th>\n      <th>8</th>\n      <th>9</th>\n      <th>10</th>\n      <th>11</th>\n    </tr>\n    <tr>\n      <th>city</th>\n      <th></th>\n      <th></th>\n      <th></th>\n      <th></th>\n      <th></th>\n      <th></th>\n      <th></th>\n      <th></th>\n      <th></th>\n      <th></th>\n      <th></th>\n    </tr>\n  </thead>\n  <tbody>\n    <tr>\n      <th>Altrincham, Cheshire, United Kingdom</th>\n      <td>NaN</td>\n      <td>NaN</td>\n      <td>NaN</td>\n      <td>1.0</td>\n      <td>NaN</td>\n      <td>NaN</td>\n      <td>NaN</td>\n      <td>NaN</td>\n      <td>NaN</td>\n      <td>NaN</td>\n      <td>NaN</td>\n    </tr>\n    <tr>\n      <th>American Fork, Utah, United States</th>\n      <td>NaN</td>\n      <td>NaN</td>\n      <td>NaN</td>\n      <td>NaN</td>\n      <td>1.0</td>\n      <td>NaN</td>\n      <td>NaN</td>\n      <td>NaN</td>\n      <td>NaN</td>\n      <td>NaN</td>\n      <td>NaN</td>\n    </tr>\n    <tr>\n      <th>Amsterdam, Noord-Holland, The Netherlands</th>\n      <td>1.0</td>\n      <td>3.0</td>\n      <td>1.0</td>\n      <td>NaN</td>\n      <td>NaN</td>\n      <td>NaN</td>\n      <td>NaN</td>\n      <td>NaN</td>\n      <td>NaN</td>\n      <td>NaN</td>\n      <td>1.0</td>\n    </tr>\n    <tr>\n      <th>Ann Arbor, Michigan, United States</th>\n      <td>NaN</td>\n      <td>NaN</td>\n      <td>NaN</td>\n      <td>NaN</td>\n      <td>1.0</td>\n      <td>NaN</td>\n      <td>NaN</td>\n      <td>NaN</td>\n      <td>NaN</td>\n      <td>NaN</td>\n      <td>NaN</td>\n    </tr>\n    <tr>\n      <th>Armonk, New York, United States</th>\n      <td>NaN</td>\n      <td>NaN</td>\n      <td>NaN</td>\n      <td>NaN</td>\n      <td>NaN</td>\n      <td>NaN</td>\n      <td>1.0</td>\n      <td>NaN</td>\n      <td>NaN</td>\n      <td>NaN</td>\n      <td>NaN</td>\n    </tr>\n    <tr>\n      <th>...</th>\n      <td>...</td>\n      <td>...</td>\n      <td>...</td>\n      <td>...</td>\n      <td>...</td>\n      <td>...</td>\n      <td>...</td>\n      <td>...</td>\n      <td>...</td>\n      <td>...</td>\n      <td>...</td>\n    </tr>\n    <tr>\n      <th>Wilmington, North Carolina, United States</th>\n      <td>NaN</td>\n      <td>1.0</td>\n      <td>NaN</td>\n      <td>NaN</td>\n      <td>NaN</td>\n      <td>NaN</td>\n      <td>NaN</td>\n      <td>NaN</td>\n      <td>NaN</td>\n      <td>NaN</td>\n      <td>NaN</td>\n    </tr>\n    <tr>\n      <th>Winston Salem, North Carolina, United States</th>\n      <td>1.0</td>\n      <td>NaN</td>\n      <td>NaN</td>\n      <td>NaN</td>\n      <td>NaN</td>\n      <td>NaN</td>\n      <td>NaN</td>\n      <td>NaN</td>\n      <td>NaN</td>\n      <td>NaN</td>\n      <td>NaN</td>\n    </tr>\n    <tr>\n      <th>Woodland Hills, California, United States</th>\n      <td>1.0</td>\n      <td>NaN</td>\n      <td>NaN</td>\n      <td>NaN</td>\n      <td>NaN</td>\n      <td>NaN</td>\n      <td>NaN</td>\n      <td>NaN</td>\n      <td>NaN</td>\n      <td>NaN</td>\n      <td>NaN</td>\n    </tr>\n    <tr>\n      <th>Zug, Zug, Switzerland</th>\n      <td>1.0</td>\n      <td>NaN</td>\n      <td>NaN</td>\n      <td>NaN</td>\n      <td>NaN</td>\n      <td>1.0</td>\n      <td>NaN</td>\n      <td>NaN</td>\n      <td>NaN</td>\n      <td>NaN</td>\n      <td>NaN</td>\n    </tr>\n    <tr>\n      <th>Zürich, Zurich, Switzerland</th>\n      <td>NaN</td>\n      <td>2.0</td>\n      <td>NaN</td>\n      <td>1.0</td>\n      <td>NaN</td>\n      <td>NaN</td>\n      <td>NaN</td>\n      <td>NaN</td>\n      <td>1.0</td>\n      <td>NaN</td>\n      <td>NaN</td>\n    </tr>\n  </tbody>\n</table>\n<p>265 rows × 11 columns</p>\n</div>"
     },
     "metadata": {},
     "execution_count": 56
    }
   ],
   "source": [
    "pdf.loc[:]"
   ]
  },
  {
   "cell_type": "code",
   "execution_count": 22,
   "metadata": {},
   "outputs": [
    {
     "output_type": "execute_result",
     "data": {
      "text/plain": [
       "                name                 city  industry    yyyymmdd        lat  \\\n",
       "0           SoftBank  Tokyo, Tokyo, Japan         2  1981/09/03  35.677769   \n",
       "112           Playco  Tokyo, Tokyo, Japan         1  2020/01/01  35.677769   \n",
       "173  NEC Corporation  Tokyo, Tokyo, Japan         6  1899/07/17  35.677769   \n",
       "\n",
       "           long  \n",
       "0    139.764636  \n",
       "112  139.764636  \n",
       "173  139.764636  "
      ],
      "text/html": "<div>\n<style scoped>\n    .dataframe tbody tr th:only-of-type {\n        vertical-align: middle;\n    }\n\n    .dataframe tbody tr th {\n        vertical-align: top;\n    }\n\n    .dataframe thead th {\n        text-align: right;\n    }\n</style>\n<table border=\"1\" class=\"dataframe\">\n  <thead>\n    <tr style=\"text-align: right;\">\n      <th></th>\n      <th>name</th>\n      <th>city</th>\n      <th>industry</th>\n      <th>yyyymmdd</th>\n      <th>lat</th>\n      <th>long</th>\n    </tr>\n  </thead>\n  <tbody>\n    <tr>\n      <th>0</th>\n      <td>SoftBank</td>\n      <td>Tokyo, Tokyo, Japan</td>\n      <td>2</td>\n      <td>1981/09/03</td>\n      <td>35.677769</td>\n      <td>139.764636</td>\n    </tr>\n    <tr>\n      <th>112</th>\n      <td>Playco</td>\n      <td>Tokyo, Tokyo, Japan</td>\n      <td>1</td>\n      <td>2020/01/01</td>\n      <td>35.677769</td>\n      <td>139.764636</td>\n    </tr>\n    <tr>\n      <th>173</th>\n      <td>NEC Corporation</td>\n      <td>Tokyo, Tokyo, Japan</td>\n      <td>6</td>\n      <td>1899/07/17</td>\n      <td>35.677769</td>\n      <td>139.764636</td>\n    </tr>\n  </tbody>\n</table>\n</div>"
     },
     "metadata": {},
     "execution_count": 22
    }
   ],
   "source": [
    "data.loc[data[\"city\"] =='Tokyo, Tokyo, Japan']"
   ]
  },
  {
   "cell_type": "code",
   "execution_count": 19,
   "metadata": {},
   "outputs": [
    {
     "output_type": "execute_result",
     "data": {
      "text/plain": [
       "265"
      ]
     },
     "metadata": {},
     "execution_count": 19
    }
   ],
   "source": [
    "def city_count(dat)"
   ]
  },
  {
   "cell_type": "code",
   "execution_count": 28,
   "metadata": {},
   "outputs": [
    {
     "output_type": "execute_result",
     "data": {
      "text/plain": [
       "                                      city  industry\n",
       "0                      Tokyo, Tokyo, Japan         2\n",
       "1        New York, New York, United States         2\n",
       "2        New York, New York, United States         1\n",
       "3    Menlo Park, California, United States         3\n",
       "4               Mumbai, Maharashtra, India         3\n",
       "..                                     ...       ...\n",
       "995      Mendota, Minnesota, United States        10\n",
       "996      New York, New York, United States         4\n",
       "997        London, England, United Kingdom         1\n",
       "998        Farmington, Utah, United States         8\n",
       "999           São Paulo, Sao Paulo, Brazil         2\n",
       "\n",
       "[1000 rows x 2 columns]"
      ],
      "text/html": "<div>\n<style scoped>\n    .dataframe tbody tr th:only-of-type {\n        vertical-align: middle;\n    }\n\n    .dataframe tbody tr th {\n        vertical-align: top;\n    }\n\n    .dataframe thead th {\n        text-align: right;\n    }\n</style>\n<table border=\"1\" class=\"dataframe\">\n  <thead>\n    <tr style=\"text-align: right;\">\n      <th></th>\n      <th>city</th>\n      <th>industry</th>\n    </tr>\n  </thead>\n  <tbody>\n    <tr>\n      <th>0</th>\n      <td>Tokyo, Tokyo, Japan</td>\n      <td>2</td>\n    </tr>\n    <tr>\n      <th>1</th>\n      <td>New York, New York, United States</td>\n      <td>2</td>\n    </tr>\n    <tr>\n      <th>2</th>\n      <td>New York, New York, United States</td>\n      <td>1</td>\n    </tr>\n    <tr>\n      <th>3</th>\n      <td>Menlo Park, California, United States</td>\n      <td>3</td>\n    </tr>\n    <tr>\n      <th>4</th>\n      <td>Mumbai, Maharashtra, India</td>\n      <td>3</td>\n    </tr>\n    <tr>\n      <th>...</th>\n      <td>...</td>\n      <td>...</td>\n    </tr>\n    <tr>\n      <th>995</th>\n      <td>Mendota, Minnesota, United States</td>\n      <td>10</td>\n    </tr>\n    <tr>\n      <th>996</th>\n      <td>New York, New York, United States</td>\n      <td>4</td>\n    </tr>\n    <tr>\n      <th>997</th>\n      <td>London, England, United Kingdom</td>\n      <td>1</td>\n    </tr>\n    <tr>\n      <th>998</th>\n      <td>Farmington, Utah, United States</td>\n      <td>8</td>\n    </tr>\n    <tr>\n      <th>999</th>\n      <td>São Paulo, Sao Paulo, Brazil</td>\n      <td>2</td>\n    </tr>\n  </tbody>\n</table>\n<p>1000 rows × 2 columns</p>\n</div>"
     },
     "metadata": {},
     "execution_count": 28
    }
   ],
   "source": [
    "cols = ['city','industry']\n",
    "data[cols]"
   ]
  },
  {
   "cell_type": "code",
   "execution_count": 42,
   "metadata": {},
   "outputs": [
    {
     "output_type": "execute_result",
     "data": {
      "text/plain": [
       "                                      city  industry\n",
       "0                      Tokyo, Tokyo, Japan         2\n",
       "1        New York, New York, United States         2\n",
       "2        New York, New York, United States         1\n",
       "3    Menlo Park, California, United States         3\n",
       "4               Mumbai, Maharashtra, India         3\n",
       "..                                     ...       ...\n",
       "995      Mendota, Minnesota, United States        10\n",
       "996      New York, New York, United States         4\n",
       "997        London, England, United Kingdom         1\n",
       "998        Farmington, Utah, United States         8\n",
       "999           São Paulo, Sao Paulo, Brazil         2\n",
       "\n",
       "[1000 rows x 2 columns]"
      ],
      "text/html": "<div>\n<style scoped>\n    .dataframe tbody tr th:only-of-type {\n        vertical-align: middle;\n    }\n\n    .dataframe tbody tr th {\n        vertical-align: top;\n    }\n\n    .dataframe thead th {\n        text-align: right;\n    }\n</style>\n<table border=\"1\" class=\"dataframe\">\n  <thead>\n    <tr style=\"text-align: right;\">\n      <th></th>\n      <th>city</th>\n      <th>industry</th>\n    </tr>\n  </thead>\n  <tbody>\n    <tr>\n      <th>0</th>\n      <td>Tokyo, Tokyo, Japan</td>\n      <td>2</td>\n    </tr>\n    <tr>\n      <th>1</th>\n      <td>New York, New York, United States</td>\n      <td>2</td>\n    </tr>\n    <tr>\n      <th>2</th>\n      <td>New York, New York, United States</td>\n      <td>1</td>\n    </tr>\n    <tr>\n      <th>3</th>\n      <td>Menlo Park, California, United States</td>\n      <td>3</td>\n    </tr>\n    <tr>\n      <th>4</th>\n      <td>Mumbai, Maharashtra, India</td>\n      <td>3</td>\n    </tr>\n    <tr>\n      <th>...</th>\n      <td>...</td>\n      <td>...</td>\n    </tr>\n    <tr>\n      <th>995</th>\n      <td>Mendota, Minnesota, United States</td>\n      <td>10</td>\n    </tr>\n    <tr>\n      <th>996</th>\n      <td>New York, New York, United States</td>\n      <td>4</td>\n    </tr>\n    <tr>\n      <th>997</th>\n      <td>London, England, United Kingdom</td>\n      <td>1</td>\n    </tr>\n    <tr>\n      <th>998</th>\n      <td>Farmington, Utah, United States</td>\n      <td>8</td>\n    </tr>\n    <tr>\n      <th>999</th>\n      <td>São Paulo, Sao Paulo, Brazil</td>\n      <td>2</td>\n    </tr>\n  </tbody>\n</table>\n<p>1000 rows × 2 columns</p>\n</div>"
     },
     "metadata": {},
     "execution_count": 42
    }
   ],
   "source": [
    "data[cols][:]"
   ]
  },
  {
   "cell_type": "code",
   "execution_count": 45,
   "metadata": {},
   "outputs": [
    {
     "output_type": "execute_result",
     "data": {
      "text/plain": [
       "city        Menlo Park, California, United States\n",
       "industry                                        3\n",
       "Name: 3, dtype: object"
      ]
     },
     "metadata": {},
     "execution_count": 45
    }
   ],
   "source": [
    "data[cols].iloc[3]"
   ]
  },
  {
   "cell_type": "code",
   "execution_count": 40,
   "metadata": {},
   "outputs": [
    {
     "output_type": "stream",
     "name": "stdout",
     "text": [
      "city\nindustry\n"
     ]
    }
   ],
   "source": [
    "for i in range(len(data)):\n",
    "    data[cols].iloc[i]"
   ]
  },
  {
   "cell_type": "code",
   "execution_count": null,
   "metadata": {},
   "outputs": [],
   "source": [
    "# new colname = cty_counts, ind_in_cty_counts"
   ]
  },
  {
   "cell_type": "code",
   "execution_count": 20,
   "metadata": {},
   "outputs": [
    {
     "output_type": "execute_result",
     "data": {
      "text/plain": [
       "array(['Tokyo, Tokyo, Japan', 'New York, New York, United States',\n",
       "       'Menlo Park, California, United States',\n",
       "       'Mumbai, Maharashtra, India', 'Berlin, Berlin, Germany',\n",
       "       'San Francisco, California, United States',\n",
       "       'Philadelphia, Pennsylvania, United States',\n",
       "       'London, England, United Kingdom',\n",
       "       'Minneapolis, Minnesota, United States',\n",
       "       'Hangzhou, Zhejiang, China',\n",
       "       'Amsterdam, Noord-Holland, The Netherlands',\n",
       "       'Bangalore, Karnataka, India', 'Beijing, Beijing, China',\n",
       "       'Cupertino, California, United States',\n",
       "       'Espoo, Southern Finland, Finland', 'Oslo, Oslo, Norway',\n",
       "       'Exeter, Devon, United Kingdom', 'Ottawa, Ontario, Canada',\n",
       "       'San Mateo, California, United States',\n",
       "       'Boston, Massachusetts, United States',\n",
       "       'Paris, Ile-de-France, France', 'Shenzhen, Guangdong, China',\n",
       "       'Sunnyvale, California, United States',\n",
       "       'Redmond, Washington, United States',\n",
       "       'Santa Monica, California, United States',\n",
       "       'Jerusalem, Yerushalayim, Israel',\n",
       "       'Stockholm, Stockholms Lan, Sweden',\n",
       "       'Moscow, Moscow City, Russian Federation',\n",
       "       'Los Gatos, California, United States',\n",
       "       'Mountain View, California, United States',\n",
       "       'New Delhi, Delhi, India', 'Seattle, Washington, United States',\n",
       "       'Brooklyn, New York, United States',\n",
       "       'São Paulo, Sao Paulo, Brazil',\n",
       "       'Mexico City, Distrito Federal, Mexico',\n",
       "       'Leverkusen, Nordrhein-Westfalen, Germany',\n",
       "       'Bengaluru, Karnataka, India', 'Miami, Florida, United States',\n",
       "       'Santa Clara, California, United States',\n",
       "       'Emeryville, California, United States',\n",
       "       'Chicago, Illinois, United States',\n",
       "       'Palo Alto, California, United States',\n",
       "       'Cambridge, Massachusetts, United States',\n",
       "       'Nashua, New Hampshire, United States', 'Dublin, Dublin, Ireland',\n",
       "       'Boulder, Colorado, United States', 'Munich, Bayern, Germany',\n",
       "       'Shanghai, Shanghai, China', 'Basel, Basel-Stadt, Switzerland',\n",
       "       'Kormangala, Karnataka, India',\n",
       "       'Kenilworth, New Jersey, United States',\n",
       "       'Toronto, Ontario, Canada', \"Taipei, T'ai-pei, Taiwan\",\n",
       "       'Cape Town, NA - South Africa, South Africa',\n",
       "       'San Diego, California, United States',\n",
       "       'Berkeley, California, United States', 'Delhi, Delhi, India',\n",
       "       'Singapore, Central Region, Singapore',\n",
       "       'Zürich, Zurich, Switzerland', 'Noida, Uttar Pradesh, India',\n",
       "       'Monument, Colorado, United States', 'Waterloo, Ontario, Canada',\n",
       "       'Irvine, California, United States',\n",
       "       'Altrincham, Cheshire, United Kingdom',\n",
       "       'Purchase, New York, United States', 'Tel Aviv, Tel Aviv, Israel',\n",
       "       'Kent, Washington, United States', 'Poznan, Wielkopolskie, Poland',\n",
       "       'Helsinki, Southern Finland, Finland',\n",
       "       'Columbus, Ohio, United States',\n",
       "       'San Jose, California, United States',\n",
       "       'Culver City, California, United States',\n",
       "       'New Orleans, Louisiana, United States',\n",
       "       'Quarry Bay, Hong Kong Island, Hong Kong',\n",
       "       'Fort Mill, South Carolina, United States',\n",
       "       'Pittsburgh, Pennsylvania, United States',\n",
       "       'Grand Cayman, Midland, Cayman Islands',\n",
       "       'Montreuil-sous-bois, Ile-de-France, France',\n",
       "       'Montréal, Quebec, Canada', 'Cincinnati, Ohio, United States',\n",
       "       'Vienna, Wien, Austria', 'Vancouver, British Columbia, Canada',\n",
       "       'Bangkok, Krung Thep, Thailand', 'Tempe, Arizona, United States',\n",
       "       'Brisbane, California, United States',\n",
       "       'Pleasanton, California, United States',\n",
       "       'Hawthorne, California, United States',\n",
       "       'Rochester, Minnesota, United States',\n",
       "       'Frisco, Texas, United States',\n",
       "       'Mill Valley, California, United States',\n",
       "       'Sydney, New South Wales, Australia',\n",
       "       'Montevideo, NA - Uruguay, Uruguay',\n",
       "       'South San Francisco, California, United States',\n",
       "       'Madrid, Madrid, Spain', \"Seoul, Seoul-t'ukpyolsi, South Korea\",\n",
       "       'Waltham, Massachusetts, United States',\n",
       "       'Englewood, Colorado, United States',\n",
       "       'Tel Aviv-yafo, Tel Aviv, Israel',\n",
       "       'Santa Barbara, California, United States',\n",
       "       'Barcelona, Catalonia, Spain', 'Baar, Zug, Switzerland',\n",
       "       'Denver, Colorado, United States', 'Istanbul, Istanbul, Turkey',\n",
       "       'Manchester, Manchester, United Kingdom',\n",
       "       'Taguig, Rizal, Philippines',\n",
       "       'Stuttgart, Baden-Wurttemberg, Germany',\n",
       "       'South Jordan, Utah, United States',\n",
       "       'Short Hills, New Jersey, United States',\n",
       "       'Bellevue, Washington, United States',\n",
       "       'Newport Beach, California, United States',\n",
       "       'Eindhoven, Noord-Brabant, The Netherlands',\n",
       "       'Atlanta, Georgia, United States',\n",
       "       'Los Angeles, California, United States',\n",
       "       'Redwood Shores, California, United States',\n",
       "       'Washington, District of Columbia, United States',\n",
       "       'Guangzhou, Guangdong, China',\n",
       "       'Cary, North Carolina, United States',\n",
       "       'Oakland, California, United States',\n",
       "       'Loveland, Ohio, United States',\n",
       "       'Oxford, Oxfordshire, United Kingdom',\n",
       "       'Kuala Lumpur, Kuala Lumpur, Malaysia',\n",
       "       'Bentonville, Arkansas, United States',\n",
       "       'Austin, Texas, United States',\n",
       "       'Woodland Hills, California, United States',\n",
       "       'Gurgaon, Haryana, India',\n",
       "       'Redwood City, California, United States',\n",
       "       'West Hollywood, California, United States',\n",
       "       'Portland, Oregon, United States',\n",
       "       'Burlington, Massachusetts, United States',\n",
       "       'Miramar Beach, Florida, United States',\n",
       "       'Corning, New York, United States',\n",
       "       'Lake Buena Vista, Florida, United States',\n",
       "       'Tallinn, Harjumaa, Estonia',\n",
       "       'Stamford, Connecticut, United States',\n",
       "       'Sisters, Oregon, United States',\n",
       "       'Ellon, Aberdeenshire, United Kingdom',\n",
       "       'Baltimore, Maryland, United States',\n",
       "       'Cedar Park, Texas, United States',\n",
       "       'Morehead, Kentucky, United States',\n",
       "       'New City, New York, United States',\n",
       "       'Santiago, Region Metropolitana, Chile',\n",
       "       'Sai Wan, Hong Kong Island, Hong Kong',\n",
       "       'Mainz, Rheinland-Pfalz, Germany', 'Milan, Lombardia, Italy',\n",
       "       'Maastricht, Limburg, The Netherlands',\n",
       "       'Las Vegas, Nevada, United States',\n",
       "       'Gaithersburg, Maryland, United States',\n",
       "       'Jakarta, Jakarta Raya, Indonesia',\n",
       "       'Mclean, Virginia, United States', 'Karachi, Sindh, Pakistan',\n",
       "       'München, Bayern, Germany', 'Provo, Utah, United States',\n",
       "       'Faridabad, Haryana, India',\n",
       "       'Wilmington, North Carolina, United States',\n",
       "       'Burlingame, California, United States',\n",
       "       'Foster City, California, United States',\n",
       "       'Charlotte, North Carolina, United States',\n",
       "       'Armonk, New York, United States',\n",
       "       'Copenhagen, Hovedstaden, Denmark',\n",
       "       'Wilmington, Delaware, United States', 'Tumkur, Karnataka, India',\n",
       "       'Overland Park, Kansas, United States',\n",
       "       'Herzliya, Tel Aviv, Israel', 'Logan, Utah, United States',\n",
       "       'Brussels, Brussels Hoofdstedelijk Gewest, Belgium',\n",
       "       'Zug, Zug, Switzerland', 'Cremona, Alberta, Canada',\n",
       "       'Ohio, Illinois, United States',\n",
       "       'Morrisville, North Carolina, United States',\n",
       "       'Norwalk, Connecticut, United States',\n",
       "       'Madison, Wisconsin, United States',\n",
       "       'Wellington, Wellington, New Zealand',\n",
       "       'San Carlos, California, United States',\n",
       "       'Glen Waverley, Victoria, Australia',\n",
       "       'Schaffhausen, Schaffhausen, Switzerland',\n",
       "       'Ramat Gan, Tel Aviv, Israel',\n",
       "       'Bromsgrove, Worcestershire, United Kingdom',\n",
       "       'Venice, California, United States',\n",
       "       'Bogotá, Distrito Especial, Colombia',\n",
       "       'Salt Lake City, Utah, United States',\n",
       "       'Mojave, California, United States',\n",
       "       'Cambridge, Cambridgeshire, United Kingdom',\n",
       "       'Townsville, Queensland, Australia',\n",
       "       'Melbourne, Victoria, Australia',\n",
       "       'Westerville, Ohio, United States',\n",
       "       'Carpinteria, California, United States',\n",
       "       'Schaumburg, Illinois, United States',\n",
       "       'Coral Gables, Florida, United States',\n",
       "       'Houston, Texas, United States', 'Cleveland, Ohio, United States',\n",
       "       'Dallas, Texas, United States',\n",
       "       'Raleigh, North Carolina, United States',\n",
       "       'Omaha, Nebraska, United States', 'Grenoble, Rhone-Alpes, France',\n",
       "       'Ann Arbor, Michigan, United States',\n",
       "       'Millbrae, California, United States',\n",
       "       'Kansas City, Missouri, United States',\n",
       "       'Frankfurt, Hessen, Germany',\n",
       "       'Leicester, Leicester, United Kingdom',\n",
       "       'Daly City, California, United States',\n",
       "       'Boise, Idaho, United States', 'Campina, Sao Paulo, Brazil',\n",
       "       'Milwaukee, Wisconsin, United States', 'Hamburg, Hamburg, Germany',\n",
       "       'Bothell, Washington, United States',\n",
       "       'Petah Tiqva, HaMerkaz, Israel',\n",
       "       'Burlington, North Carolina, United States',\n",
       "       'Bath, Bath and North East Somerset, United Kingdom',\n",
       "       'Tarrytown, New York, United States',\n",
       "       'Manama, Al Manamah, Bahrain',\n",
       "       'American Fork, Utah, United States',\n",
       "       'Morris Plains, New Jersey, United States',\n",
       "       'Jacksonville, Florida, United States', 'Haryana, Haryana, India',\n",
       "       'Sumida, Tokyo, Japan', 'Draper, Utah, United States',\n",
       "       'Buenos Aires, Distrito Federal, Argentina',\n",
       "       'Issy-les-moulineaux, Ile-de-France, France',\n",
       "       'Plantation, Florida, United States',\n",
       "       'Silver Spring, Maryland, United States',\n",
       "       'Greenville, South Carolina, United States',\n",
       "       'Reston, Virginia, United States',\n",
       "       'Livermore, California, United States',\n",
       "       'Fremont, California, United States',\n",
       "       'Novi, Michigan, United States',\n",
       "       'Cheltenham, Gloucestershire, United Kingdom',\n",
       "       'Hatfield, Hertford, United Kingdom',\n",
       "       'Lakewood, Ohio, United States',\n",
       "       'Seongnam, Kyonggi-do, South Korea',\n",
       "       'Dubai, Dubai, United Arab Emirates',\n",
       "       'Ljubljana, Ljubljana Urban Commune, Slovenia',\n",
       "       'Sag Harbor, New York, United States',\n",
       "       'Santa Cruz, California, United States',\n",
       "       'Plymouth Meeting, Pennsylvania, United States',\n",
       "       'Lehi, Utah, United States', 'Des Moines, Iowa, United States',\n",
       "       'Fresno, California, United States',\n",
       "       'Ness Ziona, HaMerkaz, Israel', 'Latham, New York, United States',\n",
       "       'Vienna, Virginia, United States',\n",
       "       'Winston Salem, North Carolina, United States',\n",
       "       'Pasadena, California, United States',\n",
       "       'Solihull, Solihull, United Kingdom',\n",
       "       'Tangerang, Jawa Barat, Indonesia',\n",
       "       'Westborough, Massachusetts, United States',\n",
       "       'Dania, Florida, United States',\n",
       "       'Detroit, Michigan, United States',\n",
       "       'Lille, Nord-Pas-de-Calais, France',\n",
       "       'Richardson, Texas, United States', 'Quebec, Quebec, Canada',\n",
       "       'Rueil-malmaison, Ile-de-France, France',\n",
       "       'Cedar Rapids, Iowa, United States', 'Geneva, Geneve, Switzerland',\n",
       "       'Buffalo, New York, United States',\n",
       "       'Lincolnshire, Illinois, United States',\n",
       "       'Malmö, Skane Lan, Sweden', 'Nairobi, Nairobi Area, Kenya',\n",
       "       'Swords, Dublin, Ireland', 'Walldorf, Baden-Wurttemberg, Germany',\n",
       "       'Linköping, Ostergotlands Lan, Sweden',\n",
       "       'Arvada, Colorado, United States',\n",
       "       'Gardena, California, United States',\n",
       "       'Belfair, Washington, United States',\n",
       "       'Mendota, Minnesota, United States',\n",
       "       'Farmington, Utah, United States'], dtype=object)"
      ]
     },
     "metadata": {},
     "execution_count": 20
    }
   ],
   "source": [
    "data['city'].unique()"
   ]
  },
  {
   "cell_type": "code",
   "execution_count": 5,
   "metadata": {},
   "outputs": [
    {
     "output_type": "execute_result",
     "data": {
      "text/plain": [
       "262"
      ]
     },
     "metadata": {},
     "execution_count": 5
    }
   ],
   "source": [
    "len(data['lat'].unique())"
   ]
  },
  {
   "cell_type": "code",
   "execution_count": null,
   "metadata": {},
   "outputs": [],
   "source": []
  },
  {
   "cell_type": "code",
   "execution_count": 18,
   "metadata": {},
   "outputs": [
    {
     "output_type": "error",
     "ename": "TypeError",
     "evalue": "__init__() got an unexpected keyword argument 'index_col'",
     "traceback": [
      "\u001b[0;31m---------------------------------------------------------------------------\u001b[0m",
      "\u001b[0;31mTypeError\u001b[0m                                 Traceback (most recent call last)",
      "\u001b[0;32m<ipython-input-18-7d7d0b11ec8c>\u001b[0m in \u001b[0;36m<module>\u001b[0;34m\u001b[0m\n\u001b[1;32m      1\u001b[0m \u001b[0mcounts\u001b[0m \u001b[0;34m=\u001b[0m \u001b[0mdata\u001b[0m\u001b[0;34m[\u001b[0m\u001b[0;34m'long'\u001b[0m\u001b[0;34m]\u001b[0m\u001b[0;34m.\u001b[0m\u001b[0mvalue_counts\u001b[0m\u001b[0;34m(\u001b[0m\u001b[0;34m)\u001b[0m\u001b[0;34m\u001b[0m\u001b[0;34m\u001b[0m\u001b[0m\n\u001b[0;32m----> 2\u001b[0;31m \u001b[0mcounts\u001b[0m \u001b[0;34m=\u001b[0m \u001b[0mpd\u001b[0m\u001b[0;34m.\u001b[0m\u001b[0mDataFrame\u001b[0m\u001b[0;34m(\u001b[0m\u001b[0mcounts\u001b[0m\u001b[0;34m,\u001b[0m \u001b[0mindex_col\u001b[0m \u001b[0;34m=\u001b[0m\u001b[0;36m0\u001b[0m\u001b[0;34m)\u001b[0m\u001b[0;34m\u001b[0m\u001b[0;34m\u001b[0m\u001b[0m\n\u001b[0m\u001b[1;32m      3\u001b[0m \u001b[0mcounts\u001b[0m \u001b[0;34m=\u001b[0m \u001b[0mcounts\u001b[0m\u001b[0;34m.\u001b[0m\u001b[0mrename\u001b[0m\u001b[0;34m(\u001b[0m\u001b[0mcolumns\u001b[0m \u001b[0;34m=\u001b[0m \u001b[0;34m{\u001b[0m\u001b[0;34m\"long\"\u001b[0m\u001b[0;34m:\u001b[0m\u001b[0;34m\"counts\"\u001b[0m\u001b[0;34m}\u001b[0m\u001b[0;34m)\u001b[0m\u001b[0;34m\u001b[0m\u001b[0;34m\u001b[0m\u001b[0m\n\u001b[1;32m      4\u001b[0m \u001b[0mcounts\u001b[0m\u001b[0;34m\u001b[0m\u001b[0;34m\u001b[0m\u001b[0m\n",
      "\u001b[0;31mTypeError\u001b[0m: __init__() got an unexpected keyword argument 'index_col'"
     ]
    }
   ],
   "source": [
    "counts = data['long'].value_counts()\n",
    "counts = pd.DataFrame(counts, index_col =0)\n",
    "counts = counts.rename(columns = {\"long\":\"counts\"})\n",
    "counts"
   ]
  },
  {
   "cell_type": "code",
   "execution_count": 16,
   "metadata": {},
   "outputs": [
    {
     "output_type": "execute_result",
     "data": {
      "text/plain": [
       "pandas.core.frame.DataFrame"
      ]
     },
     "metadata": {},
     "execution_count": 16
    }
   ],
   "source": [
    "type(counts)"
   ]
  },
  {
   "cell_type": "code",
   "execution_count": 15,
   "metadata": {},
   "outputs": [
    {
     "output_type": "error",
     "ename": "TypeError",
     "evalue": "first argument must be callable or None",
     "traceback": [
      "\u001b[0;31m---------------------------------------------------------------------------\u001b[0m",
      "\u001b[0;31mTypeError\u001b[0m                                 Traceback (most recent call last)",
      "\u001b[0;32m<ipython-input-15-786b3a8a2b27>\u001b[0m in \u001b[0;36m<module>\u001b[0;34m\u001b[0m\n\u001b[0;32m----> 1\u001b[0;31m \u001b[0mdd\u001b[0m \u001b[0;34m=\u001b[0m \u001b[0mdefaultdict\u001b[0m\u001b[0;34m(\u001b[0m\u001b[0mcounts\u001b[0m\u001b[0;34m)\u001b[0m\u001b[0;34m\u001b[0m\u001b[0;34m\u001b[0m\u001b[0m\n\u001b[0m",
      "\u001b[0;31mTypeError\u001b[0m: first argument must be callable or None"
     ]
    }
   ],
   "source": [
    "dd = defaultdict(counts)"
   ]
  },
  {
   "cell_type": "code",
   "execution_count": 12,
   "metadata": {},
   "outputs": [
    {
     "output_type": "execute_result",
     "data": {
      "text/plain": [
       "(262, 1)"
      ]
     },
     "metadata": {},
     "execution_count": 12
    }
   ],
   "source": [
    "counts.shape"
   ]
  },
  {
   "cell_type": "code",
   "execution_count": null,
   "metadata": {},
   "outputs": [],
   "source": [
    "counts_list = []\n",
    "for lon in data['long']:\n",
    "    if lon == "
   ]
  },
  {
   "cell_type": "code",
   "execution_count": 15,
   "metadata": {},
   "outputs": [
    {
     "output_type": "execute_result",
     "data": {
      "text/plain": [
       "-122.419906    161\n",
       "-74.006015     112\n",
       "-0.127647       48\n",
       " 77.591300      21\n",
       "-122.083210     21\n",
       "              ... \n",
       "-1.788867        1\n",
       " 24.745369       1\n",
       " 114.134023      1\n",
       " 127.126209      1\n",
       "-111.929658      1\n",
       "Name: long, Length: 262, dtype: int64"
      ]
     },
     "metadata": {},
     "execution_count": 15
    }
   ],
   "source": [
    "counts"
   ]
  },
  {
   "cell_type": "code",
   "execution_count": null,
   "metadata": {},
   "outputs": [],
   "source": []
  }
 ]
}