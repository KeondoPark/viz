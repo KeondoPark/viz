{
 "metadata": {
  "language_info": {
   "codemirror_mode": {
    "name": "ipython",
    "version": 3
   },
   "file_extension": ".py",
   "mimetype": "text/x-python",
   "name": "python",
   "nbconvert_exporter": "python",
   "pygments_lexer": "ipython3",
   "version": "3.7.3-final"
  },
  "orig_nbformat": 2,
  "kernelspec": {
   "name": "python3",
   "display_name": "Python 3.7.3 64-bit ('woopy37': conda)",
   "metadata": {
    "interpreter": {
     "hash": "d7244e7d860aa6e727697512493a4005e761672406cde6b308c076032c8454f4"
    }
   }
  }
 },
 "nbformat": 4,
 "nbformat_minor": 2,
 "cells": [
  {
   "cell_type": "code",
   "execution_count": 1,
   "metadata": {},
   "outputs": [],
   "source": [
    "import pandas as pd"
   ]
  },
  {
   "cell_type": "code",
   "execution_count": 3,
   "metadata": {},
   "outputs": [
    {
     "output_type": "execute_result",
     "data": {
      "text/plain": [
       "          data     goog     amzn       fb\n",
       "0   2020-06-30  278.49B  258.31B  139.69B\n",
       "1   2020-03-31  273.40B  221.24B  138.37B\n",
       "2   2019-12-31  275.91B  225.25B  133.38B\n",
       "3   2019-09-30  263.04B  199.10B  124.42B\n",
       "4   2019-06-30  257.10B  191.35B  117.01B\n",
       "5   2019-03-31  245.35B  178.10B  109.48B\n",
       "6   2018-12-31  232.79B  162.65B   97.33B\n",
       "7   2018-09-30  221.54B  143.70B   92.45B\n",
       "8   2018-06-30  211.61B  134.10B   90.29B\n",
       "9   2018-03-31  206.94B  126.36B   88.94B\n",
       "10  2017-12-31  197.30B  131.31B   84.52B\n",
       "11  2017-09-30  189.54B  115.27B   79.00B\n",
       "12  2017-06-30  178.62B   87.78B   73.84B\n",
       "13  2017-03-31  172.76B   80.97B   68.71B\n",
       "14  2016-12-31  167.50B   83.40B   64.96B\n",
       "15  2016-09-30  159.95B   70.90B   59.67B\n",
       "16  2016-06-30  154.29B   65.08B   55.74B\n",
       "17  2016-03-31  149.75B   61.13B   52.08B\n",
       "18  2015-12-31  147.46B   64.75B   49.41B\n",
       "19  2015-09-30  144.28B   56.23B   46.47B\n",
       "20  2015-06-30  138.81B   52.44B   44.13B\n",
       "21  2015-03-31  133.40B   50.08B   42.01B\n",
       "22  2014-12-31  129.19B   54.50B   39.97B\n",
       "23  2014-09-30  125.78B   40.42B   24.19B\n",
       "24  2014-06-30  121.61B   37.90B   20.77B\n",
       "25  2014-03-31  116.53B   36.36B   19.03B\n",
       "26  2013-12-31  110.92B   40.16B   17.90B\n",
       "27  2013-09-30  105.07B   31.86B   14.93B\n",
       "28  2013-06-30  101.18B   29.62B   15.72B\n",
       "29  2013-03-31   96.69B   28.38B   15.16B\n",
       "30  2012-12-31   93.80B   32.56B   15.10B\n",
       "31  2012-09-30   89.73B   22.83B   16.04B\n",
       "32  2012-06-30   86.05B   21.02B   14.93B\n",
       "33  2012-03-31   77.14B   20.34B   7.184B\n",
       "34  2011-12-31   72.57B   25.28B   6.331B\n",
       "35  2011-09-30   69.09B   19.05B      NaN\n",
       "36  2011-06-30   64.86B   17.94B      NaN\n",
       "37  2011-03-31   59.96B   16.88B      NaN\n",
       "38  2010-12-31   57.85B   18.80B      NaN\n",
       "39  2010-09-30   53.34B   14.16B      NaN\n",
       "40  2010-06-30   48.04B   12.40B      NaN\n",
       "41  2010-03-31   42.87B   12.04B      NaN\n",
       "42  2009-12-31   40.50B   13.81B      NaN\n",
       "43  2009-09-30   37.70B   8.972B      NaN\n",
       "44  2009-06-30   35.16B   7.675B      NaN\n",
       "45  2009-03-31   33.51B    6.98B      NaN\n",
       "46  2008-12-31   31.77B   8.314B      NaN\n",
       "47  2008-09-30   30.81B   6.566B      NaN\n",
       "48  2008-06-30   29.18B   6.322B      NaN\n",
       "49  2008-03-31   27.60B   5.883B      NaN"
      ],
      "text/html": "<div>\n<style scoped>\n    .dataframe tbody tr th:only-of-type {\n        vertical-align: middle;\n    }\n\n    .dataframe tbody tr th {\n        vertical-align: top;\n    }\n\n    .dataframe thead th {\n        text-align: right;\n    }\n</style>\n<table border=\"1\" class=\"dataframe\">\n  <thead>\n    <tr style=\"text-align: right;\">\n      <th></th>\n      <th>data</th>\n      <th>goog</th>\n      <th>amzn</th>\n      <th>fb</th>\n    </tr>\n  </thead>\n  <tbody>\n    <tr>\n      <th>0</th>\n      <td>2020-06-30</td>\n      <td>278.49B</td>\n      <td>258.31B</td>\n      <td>139.69B</td>\n    </tr>\n    <tr>\n      <th>1</th>\n      <td>2020-03-31</td>\n      <td>273.40B</td>\n      <td>221.24B</td>\n      <td>138.37B</td>\n    </tr>\n    <tr>\n      <th>2</th>\n      <td>2019-12-31</td>\n      <td>275.91B</td>\n      <td>225.25B</td>\n      <td>133.38B</td>\n    </tr>\n    <tr>\n      <th>3</th>\n      <td>2019-09-30</td>\n      <td>263.04B</td>\n      <td>199.10B</td>\n      <td>124.42B</td>\n    </tr>\n    <tr>\n      <th>4</th>\n      <td>2019-06-30</td>\n      <td>257.10B</td>\n      <td>191.35B</td>\n      <td>117.01B</td>\n    </tr>\n    <tr>\n      <th>5</th>\n      <td>2019-03-31</td>\n      <td>245.35B</td>\n      <td>178.10B</td>\n      <td>109.48B</td>\n    </tr>\n    <tr>\n      <th>6</th>\n      <td>2018-12-31</td>\n      <td>232.79B</td>\n      <td>162.65B</td>\n      <td>97.33B</td>\n    </tr>\n    <tr>\n      <th>7</th>\n      <td>2018-09-30</td>\n      <td>221.54B</td>\n      <td>143.70B</td>\n      <td>92.45B</td>\n    </tr>\n    <tr>\n      <th>8</th>\n      <td>2018-06-30</td>\n      <td>211.61B</td>\n      <td>134.10B</td>\n      <td>90.29B</td>\n    </tr>\n    <tr>\n      <th>9</th>\n      <td>2018-03-31</td>\n      <td>206.94B</td>\n      <td>126.36B</td>\n      <td>88.94B</td>\n    </tr>\n    <tr>\n      <th>10</th>\n      <td>2017-12-31</td>\n      <td>197.30B</td>\n      <td>131.31B</td>\n      <td>84.52B</td>\n    </tr>\n    <tr>\n      <th>11</th>\n      <td>2017-09-30</td>\n      <td>189.54B</td>\n      <td>115.27B</td>\n      <td>79.00B</td>\n    </tr>\n    <tr>\n      <th>12</th>\n      <td>2017-06-30</td>\n      <td>178.62B</td>\n      <td>87.78B</td>\n      <td>73.84B</td>\n    </tr>\n    <tr>\n      <th>13</th>\n      <td>2017-03-31</td>\n      <td>172.76B</td>\n      <td>80.97B</td>\n      <td>68.71B</td>\n    </tr>\n    <tr>\n      <th>14</th>\n      <td>2016-12-31</td>\n      <td>167.50B</td>\n      <td>83.40B</td>\n      <td>64.96B</td>\n    </tr>\n    <tr>\n      <th>15</th>\n      <td>2016-09-30</td>\n      <td>159.95B</td>\n      <td>70.90B</td>\n      <td>59.67B</td>\n    </tr>\n    <tr>\n      <th>16</th>\n      <td>2016-06-30</td>\n      <td>154.29B</td>\n      <td>65.08B</td>\n      <td>55.74B</td>\n    </tr>\n    <tr>\n      <th>17</th>\n      <td>2016-03-31</td>\n      <td>149.75B</td>\n      <td>61.13B</td>\n      <td>52.08B</td>\n    </tr>\n    <tr>\n      <th>18</th>\n      <td>2015-12-31</td>\n      <td>147.46B</td>\n      <td>64.75B</td>\n      <td>49.41B</td>\n    </tr>\n    <tr>\n      <th>19</th>\n      <td>2015-09-30</td>\n      <td>144.28B</td>\n      <td>56.23B</td>\n      <td>46.47B</td>\n    </tr>\n    <tr>\n      <th>20</th>\n      <td>2015-06-30</td>\n      <td>138.81B</td>\n      <td>52.44B</td>\n      <td>44.13B</td>\n    </tr>\n    <tr>\n      <th>21</th>\n      <td>2015-03-31</td>\n      <td>133.40B</td>\n      <td>50.08B</td>\n      <td>42.01B</td>\n    </tr>\n    <tr>\n      <th>22</th>\n      <td>2014-12-31</td>\n      <td>129.19B</td>\n      <td>54.50B</td>\n      <td>39.97B</td>\n    </tr>\n    <tr>\n      <th>23</th>\n      <td>2014-09-30</td>\n      <td>125.78B</td>\n      <td>40.42B</td>\n      <td>24.19B</td>\n    </tr>\n    <tr>\n      <th>24</th>\n      <td>2014-06-30</td>\n      <td>121.61B</td>\n      <td>37.90B</td>\n      <td>20.77B</td>\n    </tr>\n    <tr>\n      <th>25</th>\n      <td>2014-03-31</td>\n      <td>116.53B</td>\n      <td>36.36B</td>\n      <td>19.03B</td>\n    </tr>\n    <tr>\n      <th>26</th>\n      <td>2013-12-31</td>\n      <td>110.92B</td>\n      <td>40.16B</td>\n      <td>17.90B</td>\n    </tr>\n    <tr>\n      <th>27</th>\n      <td>2013-09-30</td>\n      <td>105.07B</td>\n      <td>31.86B</td>\n      <td>14.93B</td>\n    </tr>\n    <tr>\n      <th>28</th>\n      <td>2013-06-30</td>\n      <td>101.18B</td>\n      <td>29.62B</td>\n      <td>15.72B</td>\n    </tr>\n    <tr>\n      <th>29</th>\n      <td>2013-03-31</td>\n      <td>96.69B</td>\n      <td>28.38B</td>\n      <td>15.16B</td>\n    </tr>\n    <tr>\n      <th>30</th>\n      <td>2012-12-31</td>\n      <td>93.80B</td>\n      <td>32.56B</td>\n      <td>15.10B</td>\n    </tr>\n    <tr>\n      <th>31</th>\n      <td>2012-09-30</td>\n      <td>89.73B</td>\n      <td>22.83B</td>\n      <td>16.04B</td>\n    </tr>\n    <tr>\n      <th>32</th>\n      <td>2012-06-30</td>\n      <td>86.05B</td>\n      <td>21.02B</td>\n      <td>14.93B</td>\n    </tr>\n    <tr>\n      <th>33</th>\n      <td>2012-03-31</td>\n      <td>77.14B</td>\n      <td>20.34B</td>\n      <td>7.184B</td>\n    </tr>\n    <tr>\n      <th>34</th>\n      <td>2011-12-31</td>\n      <td>72.57B</td>\n      <td>25.28B</td>\n      <td>6.331B</td>\n    </tr>\n    <tr>\n      <th>35</th>\n      <td>2011-09-30</td>\n      <td>69.09B</td>\n      <td>19.05B</td>\n      <td>NaN</td>\n    </tr>\n    <tr>\n      <th>36</th>\n      <td>2011-06-30</td>\n      <td>64.86B</td>\n      <td>17.94B</td>\n      <td>NaN</td>\n    </tr>\n    <tr>\n      <th>37</th>\n      <td>2011-03-31</td>\n      <td>59.96B</td>\n      <td>16.88B</td>\n      <td>NaN</td>\n    </tr>\n    <tr>\n      <th>38</th>\n      <td>2010-12-31</td>\n      <td>57.85B</td>\n      <td>18.80B</td>\n      <td>NaN</td>\n    </tr>\n    <tr>\n      <th>39</th>\n      <td>2010-09-30</td>\n      <td>53.34B</td>\n      <td>14.16B</td>\n      <td>NaN</td>\n    </tr>\n    <tr>\n      <th>40</th>\n      <td>2010-06-30</td>\n      <td>48.04B</td>\n      <td>12.40B</td>\n      <td>NaN</td>\n    </tr>\n    <tr>\n      <th>41</th>\n      <td>2010-03-31</td>\n      <td>42.87B</td>\n      <td>12.04B</td>\n      <td>NaN</td>\n    </tr>\n    <tr>\n      <th>42</th>\n      <td>2009-12-31</td>\n      <td>40.50B</td>\n      <td>13.81B</td>\n      <td>NaN</td>\n    </tr>\n    <tr>\n      <th>43</th>\n      <td>2009-09-30</td>\n      <td>37.70B</td>\n      <td>8.972B</td>\n      <td>NaN</td>\n    </tr>\n    <tr>\n      <th>44</th>\n      <td>2009-06-30</td>\n      <td>35.16B</td>\n      <td>7.675B</td>\n      <td>NaN</td>\n    </tr>\n    <tr>\n      <th>45</th>\n      <td>2009-03-31</td>\n      <td>33.51B</td>\n      <td>6.98B</td>\n      <td>NaN</td>\n    </tr>\n    <tr>\n      <th>46</th>\n      <td>2008-12-31</td>\n      <td>31.77B</td>\n      <td>8.314B</td>\n      <td>NaN</td>\n    </tr>\n    <tr>\n      <th>47</th>\n      <td>2008-09-30</td>\n      <td>30.81B</td>\n      <td>6.566B</td>\n      <td>NaN</td>\n    </tr>\n    <tr>\n      <th>48</th>\n      <td>2008-06-30</td>\n      <td>29.18B</td>\n      <td>6.322B</td>\n      <td>NaN</td>\n    </tr>\n    <tr>\n      <th>49</th>\n      <td>2008-03-31</td>\n      <td>27.60B</td>\n      <td>5.883B</td>\n      <td>NaN</td>\n    </tr>\n  </tbody>\n</table>\n</div>"
     },
     "metadata": {},
     "execution_count": 3
    }
   ],
   "source": [
    "data = pd.read_csv('rbc.csv')\n",
    "data"
   ]
  },
  {
   "cell_type": "code",
   "execution_count": null,
   "metadata": {},
   "outputs": [],
   "source": []
  }
 ]
}