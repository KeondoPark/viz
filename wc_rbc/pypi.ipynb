{
 "metadata": {
  "language_info": {
   "codemirror_mode": {
    "name": "ipython",
    "version": 3
   },
   "file_extension": ".py",
   "mimetype": "text/x-python",
   "name": "python",
   "nbconvert_exporter": "python",
   "pygments_lexer": "ipython3",
   "version": "3.7.3-final"
  },
  "orig_nbformat": 2,
  "kernelspec": {
   "name": "python3",
   "display_name": "Python 3.7.3 64-bit ('woopy37': conda)",
   "metadata": {
    "interpreter": {
     "hash": "d7244e7d860aa6e727697512493a4005e761672406cde6b308c076032c8454f4"
    }
   }
  }
 },
 "nbformat": 4,
 "nbformat_minor": 2,
 "cells": [
  {
   "cell_type": "code",
   "execution_count": 2,
   "metadata": {},
   "outputs": [],
   "source": [
    "import bar_chart_race as bcr\n",
    "import pandas as pd"
   ]
  },
  {
   "cell_type": "code",
   "execution_count": 10,
   "metadata": {},
   "outputs": [
    {
     "output_type": "execute_result",
     "data": {
      "text/plain": [
       "          date    goog    amzn      fb   apple\n",
       "0   2008/06/30   29180    6322     100   31710\n",
       "1   2008/09/30   30810    6566     100   36170\n",
       "2   2008/12/31   31770    8314     100   42790\n",
       "3   2009/03/31   33510    6980     100   43240\n",
       "4   2009/06/30   35160    7675     100   48140\n",
       "5   2009/09/30   37700    8972     100   47500\n",
       "6   2009/12/31   40500   13810     100   53930\n",
       "7   2010/03/31   42870   12040     100   57060\n",
       "8   2010/06/30   48040   12400     100   64720\n",
       "9   2010/09/30   53340   14160     100   75180\n",
       "10  2010/12/31   57850   18800     100   86740\n",
       "11  2011/03/31   59960   16880     100   94900\n",
       "12  2011/06/30   64860   17940     100  106760\n",
       "13  2011/09/30   69090   19050     100  116370\n",
       "14  2011/12/31   72570   25280     100  138680\n",
       "15  2012/03/31   77140   20340    7184  150930\n",
       "16  2012/06/30   86050   21020   14930  162900\n",
       "17  2012/09/30   89730   22830   16040  176060\n",
       "18  2012/12/31   93800   32560   15100  196090\n",
       "19  2013/03/31   96690   28380   15160  194740\n",
       "20  2013/06/30  101180   29620   15720  199860\n",
       "21  2013/09/30  105070   31860   14930  207000\n",
       "22  2013/12/31  110920   40160   17900  225180\n",
       "23  2014/03/31  116530   36360   19030  205990\n",
       "24  2014/06/30  121610   37900   20770  222520\n",
       "25  2014/09/30  125780   40420   24190  231840\n",
       "26  2014/12/31  129190   54500   39970  261890\n",
       "27  2015/03/31  133400   50080   42010  261190\n",
       "28  2015/06/30  138810   52440   44130  273150\n",
       "29  2015/09/30  144280   56230   46470  290340\n",
       "30  2015/12/31  147460   64750   49410  293280\n",
       "31  2016/03/31  149750   61130   52080  305280\n",
       "32  2016/06/30  154290   65080   55740  305600\n",
       "33  2016/09/30  159950   70900   59670  321690\n",
       "34  2016/12/31  167500   83400   64960  331140\n",
       "35  2017/03/31  172760   80970   68710  334530\n",
       "36  2017/06/30  178620   87780   73840  345170\n",
       "37  2017/09/30  189540  115270   79000  375320\n",
       "38  2017/12/31  197300  131310   84520  406790\n",
       "39  2018/03/31  206940  126360   88940  367500\n",
       "40  2018/06/30  211610  134100   90290  349200\n",
       "41  2018/09/30  221540  143700   92450  365720\n",
       "42  2018/12/31  232790  162650   97330  373720\n",
       "43  2019/03/31  245350  178100  109480  342000\n",
       "44  2019/06/30  257100  191350  117010  322240\n",
       "45  2019/09/30  263040  199100  124420  338520\n",
       "46  2019/12/31  275910  225250  133380  340620\n",
       "47  2020/03/31  273400  221240  138370  320400\n",
       "48  2020/06/30  278490  258310  139690  317340\n",
       "49  2020/09/30  299240  282180  146440  323890"
      ],
      "text/html": "<div>\n<style scoped>\n    .dataframe tbody tr th:only-of-type {\n        vertical-align: middle;\n    }\n\n    .dataframe tbody tr th {\n        vertical-align: top;\n    }\n\n    .dataframe thead th {\n        text-align: right;\n    }\n</style>\n<table border=\"1\" class=\"dataframe\">\n  <thead>\n    <tr style=\"text-align: right;\">\n      <th></th>\n      <th>date</th>\n      <th>goog</th>\n      <th>amzn</th>\n      <th>fb</th>\n      <th>apple</th>\n    </tr>\n  </thead>\n  <tbody>\n    <tr>\n      <th>0</th>\n      <td>2008/06/30</td>\n      <td>29180</td>\n      <td>6322</td>\n      <td>100</td>\n      <td>31710</td>\n    </tr>\n    <tr>\n      <th>1</th>\n      <td>2008/09/30</td>\n      <td>30810</td>\n      <td>6566</td>\n      <td>100</td>\n      <td>36170</td>\n    </tr>\n    <tr>\n      <th>2</th>\n      <td>2008/12/31</td>\n      <td>31770</td>\n      <td>8314</td>\n      <td>100</td>\n      <td>42790</td>\n    </tr>\n    <tr>\n      <th>3</th>\n      <td>2009/03/31</td>\n      <td>33510</td>\n      <td>6980</td>\n      <td>100</td>\n      <td>43240</td>\n    </tr>\n    <tr>\n      <th>4</th>\n      <td>2009/06/30</td>\n      <td>35160</td>\n      <td>7675</td>\n      <td>100</td>\n      <td>48140</td>\n    </tr>\n    <tr>\n      <th>5</th>\n      <td>2009/09/30</td>\n      <td>37700</td>\n      <td>8972</td>\n      <td>100</td>\n      <td>47500</td>\n    </tr>\n    <tr>\n      <th>6</th>\n      <td>2009/12/31</td>\n      <td>40500</td>\n      <td>13810</td>\n      <td>100</td>\n      <td>53930</td>\n    </tr>\n    <tr>\n      <th>7</th>\n      <td>2010/03/31</td>\n      <td>42870</td>\n      <td>12040</td>\n      <td>100</td>\n      <td>57060</td>\n    </tr>\n    <tr>\n      <th>8</th>\n      <td>2010/06/30</td>\n      <td>48040</td>\n      <td>12400</td>\n      <td>100</td>\n      <td>64720</td>\n    </tr>\n    <tr>\n      <th>9</th>\n      <td>2010/09/30</td>\n      <td>53340</td>\n      <td>14160</td>\n      <td>100</td>\n      <td>75180</td>\n    </tr>\n    <tr>\n      <th>10</th>\n      <td>2010/12/31</td>\n      <td>57850</td>\n      <td>18800</td>\n      <td>100</td>\n      <td>86740</td>\n    </tr>\n    <tr>\n      <th>11</th>\n      <td>2011/03/31</td>\n      <td>59960</td>\n      <td>16880</td>\n      <td>100</td>\n      <td>94900</td>\n    </tr>\n    <tr>\n      <th>12</th>\n      <td>2011/06/30</td>\n      <td>64860</td>\n      <td>17940</td>\n      <td>100</td>\n      <td>106760</td>\n    </tr>\n    <tr>\n      <th>13</th>\n      <td>2011/09/30</td>\n      <td>69090</td>\n      <td>19050</td>\n      <td>100</td>\n      <td>116370</td>\n    </tr>\n    <tr>\n      <th>14</th>\n      <td>2011/12/31</td>\n      <td>72570</td>\n      <td>25280</td>\n      <td>100</td>\n      <td>138680</td>\n    </tr>\n    <tr>\n      <th>15</th>\n      <td>2012/03/31</td>\n      <td>77140</td>\n      <td>20340</td>\n      <td>7184</td>\n      <td>150930</td>\n    </tr>\n    <tr>\n      <th>16</th>\n      <td>2012/06/30</td>\n      <td>86050</td>\n      <td>21020</td>\n      <td>14930</td>\n      <td>162900</td>\n    </tr>\n    <tr>\n      <th>17</th>\n      <td>2012/09/30</td>\n      <td>89730</td>\n      <td>22830</td>\n      <td>16040</td>\n      <td>176060</td>\n    </tr>\n    <tr>\n      <th>18</th>\n      <td>2012/12/31</td>\n      <td>93800</td>\n      <td>32560</td>\n      <td>15100</td>\n      <td>196090</td>\n    </tr>\n    <tr>\n      <th>19</th>\n      <td>2013/03/31</td>\n      <td>96690</td>\n      <td>28380</td>\n      <td>15160</td>\n      <td>194740</td>\n    </tr>\n    <tr>\n      <th>20</th>\n      <td>2013/06/30</td>\n      <td>101180</td>\n      <td>29620</td>\n      <td>15720</td>\n      <td>199860</td>\n    </tr>\n    <tr>\n      <th>21</th>\n      <td>2013/09/30</td>\n      <td>105070</td>\n      <td>31860</td>\n      <td>14930</td>\n      <td>207000</td>\n    </tr>\n    <tr>\n      <th>22</th>\n      <td>2013/12/31</td>\n      <td>110920</td>\n      <td>40160</td>\n      <td>17900</td>\n      <td>225180</td>\n    </tr>\n    <tr>\n      <th>23</th>\n      <td>2014/03/31</td>\n      <td>116530</td>\n      <td>36360</td>\n      <td>19030</td>\n      <td>205990</td>\n    </tr>\n    <tr>\n      <th>24</th>\n      <td>2014/06/30</td>\n      <td>121610</td>\n      <td>37900</td>\n      <td>20770</td>\n      <td>222520</td>\n    </tr>\n    <tr>\n      <th>25</th>\n      <td>2014/09/30</td>\n      <td>125780</td>\n      <td>40420</td>\n      <td>24190</td>\n      <td>231840</td>\n    </tr>\n    <tr>\n      <th>26</th>\n      <td>2014/12/31</td>\n      <td>129190</td>\n      <td>54500</td>\n      <td>39970</td>\n      <td>261890</td>\n    </tr>\n    <tr>\n      <th>27</th>\n      <td>2015/03/31</td>\n      <td>133400</td>\n      <td>50080</td>\n      <td>42010</td>\n      <td>261190</td>\n    </tr>\n    <tr>\n      <th>28</th>\n      <td>2015/06/30</td>\n      <td>138810</td>\n      <td>52440</td>\n      <td>44130</td>\n      <td>273150</td>\n    </tr>\n    <tr>\n      <th>29</th>\n      <td>2015/09/30</td>\n      <td>144280</td>\n      <td>56230</td>\n      <td>46470</td>\n      <td>290340</td>\n    </tr>\n    <tr>\n      <th>30</th>\n      <td>2015/12/31</td>\n      <td>147460</td>\n      <td>64750</td>\n      <td>49410</td>\n      <td>293280</td>\n    </tr>\n    <tr>\n      <th>31</th>\n      <td>2016/03/31</td>\n      <td>149750</td>\n      <td>61130</td>\n      <td>52080</td>\n      <td>305280</td>\n    </tr>\n    <tr>\n      <th>32</th>\n      <td>2016/06/30</td>\n      <td>154290</td>\n      <td>65080</td>\n      <td>55740</td>\n      <td>305600</td>\n    </tr>\n    <tr>\n      <th>33</th>\n      <td>2016/09/30</td>\n      <td>159950</td>\n      <td>70900</td>\n      <td>59670</td>\n      <td>321690</td>\n    </tr>\n    <tr>\n      <th>34</th>\n      <td>2016/12/31</td>\n      <td>167500</td>\n      <td>83400</td>\n      <td>64960</td>\n      <td>331140</td>\n    </tr>\n    <tr>\n      <th>35</th>\n      <td>2017/03/31</td>\n      <td>172760</td>\n      <td>80970</td>\n      <td>68710</td>\n      <td>334530</td>\n    </tr>\n    <tr>\n      <th>36</th>\n      <td>2017/06/30</td>\n      <td>178620</td>\n      <td>87780</td>\n      <td>73840</td>\n      <td>345170</td>\n    </tr>\n    <tr>\n      <th>37</th>\n      <td>2017/09/30</td>\n      <td>189540</td>\n      <td>115270</td>\n      <td>79000</td>\n      <td>375320</td>\n    </tr>\n    <tr>\n      <th>38</th>\n      <td>2017/12/31</td>\n      <td>197300</td>\n      <td>131310</td>\n      <td>84520</td>\n      <td>406790</td>\n    </tr>\n    <tr>\n      <th>39</th>\n      <td>2018/03/31</td>\n      <td>206940</td>\n      <td>126360</td>\n      <td>88940</td>\n      <td>367500</td>\n    </tr>\n    <tr>\n      <th>40</th>\n      <td>2018/06/30</td>\n      <td>211610</td>\n      <td>134100</td>\n      <td>90290</td>\n      <td>349200</td>\n    </tr>\n    <tr>\n      <th>41</th>\n      <td>2018/09/30</td>\n      <td>221540</td>\n      <td>143700</td>\n      <td>92450</td>\n      <td>365720</td>\n    </tr>\n    <tr>\n      <th>42</th>\n      <td>2018/12/31</td>\n      <td>232790</td>\n      <td>162650</td>\n      <td>97330</td>\n      <td>373720</td>\n    </tr>\n    <tr>\n      <th>43</th>\n      <td>2019/03/31</td>\n      <td>245350</td>\n      <td>178100</td>\n      <td>109480</td>\n      <td>342000</td>\n    </tr>\n    <tr>\n      <th>44</th>\n      <td>2019/06/30</td>\n      <td>257100</td>\n      <td>191350</td>\n      <td>117010</td>\n      <td>322240</td>\n    </tr>\n    <tr>\n      <th>45</th>\n      <td>2019/09/30</td>\n      <td>263040</td>\n      <td>199100</td>\n      <td>124420</td>\n      <td>338520</td>\n    </tr>\n    <tr>\n      <th>46</th>\n      <td>2019/12/31</td>\n      <td>275910</td>\n      <td>225250</td>\n      <td>133380</td>\n      <td>340620</td>\n    </tr>\n    <tr>\n      <th>47</th>\n      <td>2020/03/31</td>\n      <td>273400</td>\n      <td>221240</td>\n      <td>138370</td>\n      <td>320400</td>\n    </tr>\n    <tr>\n      <th>48</th>\n      <td>2020/06/30</td>\n      <td>278490</td>\n      <td>258310</td>\n      <td>139690</td>\n      <td>317340</td>\n    </tr>\n    <tr>\n      <th>49</th>\n      <td>2020/09/30</td>\n      <td>299240</td>\n      <td>282180</td>\n      <td>146440</td>\n      <td>323890</td>\n    </tr>\n  </tbody>\n</table>\n</div>"
     },
     "metadata": {},
     "execution_count": 10
    }
   ],
   "source": [
    "#df = pd.read_csv('pypi.ipynb', error_bad_lines=False)\n",
    "df = pd.read_csv('rbc_1119_pypi.csv')\n",
    "df"
   ]
  },
  {
   "cell_type": "code",
   "execution_count": 11,
   "metadata": {},
   "outputs": [
    {
     "output_type": "error",
     "ename": "Exception",
     "evalue": "You do not have ffmpeg installed on your machine. Download\n                            ffmpeg from here: https://www.ffmpeg.org/download.html.\n                            \n                            Matplotlib's original error message below:\n\n                            boolean index did not match indexed array along dimension 0; dimension is 5 but corresponding boolean dimension is 4\n                            ",
     "traceback": [
      "\u001b[0;31m---------------------------------------------------------------------------\u001b[0m",
      "\u001b[0;31mIndexError\u001b[0m                                Traceback (most recent call last)",
      "\u001b[0;32m~/opt/anaconda3/envs/woopy37/lib/python3.7/site-packages/bar_chart_race/_make_chart.py\u001b[0m in \u001b[0;36mmake_animation\u001b[0;34m(self)\u001b[0m\n\u001b[1;32m    427\u001b[0m             \u001b[0;32mif\u001b[0m \u001b[0mself\u001b[0m\u001b[0;34m.\u001b[0m\u001b[0mhtml\u001b[0m\u001b[0;34m:\u001b[0m\u001b[0;34m\u001b[0m\u001b[0;34m\u001b[0m\u001b[0m\n\u001b[0;32m--> 428\u001b[0;31m                 \u001b[0mret_val\u001b[0m \u001b[0;34m=\u001b[0m \u001b[0manim\u001b[0m\u001b[0;34m.\u001b[0m\u001b[0mto_html5_video\u001b[0m\u001b[0;34m(\u001b[0m\u001b[0;34m)\u001b[0m\u001b[0;34m\u001b[0m\u001b[0;34m\u001b[0m\u001b[0m\n\u001b[0m\u001b[1;32m    429\u001b[0m                 \u001b[0;32mtry\u001b[0m\u001b[0;34m:\u001b[0m\u001b[0;34m\u001b[0m\u001b[0;34m\u001b[0m\u001b[0m\n",
      "\u001b[0;32m~/opt/anaconda3/envs/woopy37/lib/python3.7/site-packages/matplotlib/animation.py\u001b[0m in \u001b[0;36mto_html5_video\u001b[0;34m(self, embed_limit)\u001b[0m\n\u001b[1;32m   1331\u001b[0m                                 fps=1000. / self._interval)\n\u001b[0;32m-> 1332\u001b[0;31m                 \u001b[0mself\u001b[0m\u001b[0;34m.\u001b[0m\u001b[0msave\u001b[0m\u001b[0;34m(\u001b[0m\u001b[0mstr\u001b[0m\u001b[0;34m(\u001b[0m\u001b[0mpath\u001b[0m\u001b[0;34m)\u001b[0m\u001b[0;34m,\u001b[0m \u001b[0mwriter\u001b[0m\u001b[0;34m=\u001b[0m\u001b[0mwriter\u001b[0m\u001b[0;34m)\u001b[0m\u001b[0;34m\u001b[0m\u001b[0;34m\u001b[0m\u001b[0m\n\u001b[0m\u001b[1;32m   1333\u001b[0m                 \u001b[0;31m# Now open and base64 encode.\u001b[0m\u001b[0;34m\u001b[0m\u001b[0;34m\u001b[0m\u001b[0;34m\u001b[0m\u001b[0m\n",
      "\u001b[0;32m~/opt/anaconda3/envs/woopy37/lib/python3.7/site-packages/matplotlib/animation.py\u001b[0m in \u001b[0;36msave\u001b[0;34m(self, filename, writer, fps, dpi, codec, bitrate, extra_args, metadata, extra_anim, savefig_kwargs, progress_callback)\u001b[0m\n\u001b[1;32m   1134\u001b[0m                     \u001b[0;31m# Clear the initial frame\u001b[0m\u001b[0;34m\u001b[0m\u001b[0;34m\u001b[0m\u001b[0;34m\u001b[0m\u001b[0m\n\u001b[0;32m-> 1135\u001b[0;31m                     \u001b[0manim\u001b[0m\u001b[0;34m.\u001b[0m\u001b[0m_init_draw\u001b[0m\u001b[0;34m(\u001b[0m\u001b[0;34m)\u001b[0m\u001b[0;34m\u001b[0m\u001b[0;34m\u001b[0m\u001b[0m\n\u001b[0m\u001b[1;32m   1136\u001b[0m                 \u001b[0mframe_number\u001b[0m \u001b[0;34m=\u001b[0m \u001b[0;36m0\u001b[0m\u001b[0;34m\u001b[0m\u001b[0;34m\u001b[0m\u001b[0m\n",
      "\u001b[0;32m~/opt/anaconda3/envs/woopy37/lib/python3.7/site-packages/matplotlib/animation.py\u001b[0m in \u001b[0;36m_init_draw\u001b[0;34m(self)\u001b[0m\n\u001b[1;32m   1745\u001b[0m         \u001b[0;32melse\u001b[0m\u001b[0;34m:\u001b[0m\u001b[0;34m\u001b[0m\u001b[0;34m\u001b[0m\u001b[0m\n\u001b[0;32m-> 1746\u001b[0;31m             \u001b[0mself\u001b[0m\u001b[0;34m.\u001b[0m\u001b[0m_drawn_artists\u001b[0m \u001b[0;34m=\u001b[0m \u001b[0mself\u001b[0m\u001b[0;34m.\u001b[0m\u001b[0m_init_func\u001b[0m\u001b[0;34m(\u001b[0m\u001b[0;34m)\u001b[0m\u001b[0;34m\u001b[0m\u001b[0;34m\u001b[0m\u001b[0m\n\u001b[0m\u001b[1;32m   1747\u001b[0m             \u001b[0;32mif\u001b[0m \u001b[0mself\u001b[0m\u001b[0;34m.\u001b[0m\u001b[0m_blit\u001b[0m\u001b[0;34m:\u001b[0m\u001b[0;34m\u001b[0m\u001b[0;34m\u001b[0m\u001b[0m\n",
      "\u001b[0;32m~/opt/anaconda3/envs/woopy37/lib/python3.7/site-packages/bar_chart_race/_make_chart.py\u001b[0m in \u001b[0;36minit_func\u001b[0;34m()\u001b[0m\n\u001b[1;32m    419\u001b[0m         \u001b[0;32mdef\u001b[0m \u001b[0minit_func\u001b[0m\u001b[0;34m(\u001b[0m\u001b[0;34m)\u001b[0m\u001b[0;34m:\u001b[0m\u001b[0;34m\u001b[0m\u001b[0;34m\u001b[0m\u001b[0m\n\u001b[0;32m--> 420\u001b[0;31m             \u001b[0mself\u001b[0m\u001b[0;34m.\u001b[0m\u001b[0mplot_bars\u001b[0m\u001b[0;34m(\u001b[0m\u001b[0;36m0\u001b[0m\u001b[0;34m)\u001b[0m\u001b[0;34m\u001b[0m\u001b[0;34m\u001b[0m\u001b[0m\n\u001b[0m\u001b[1;32m    421\u001b[0m \u001b[0;34m\u001b[0m\u001b[0m\n",
      "\u001b[0;32m~/opt/anaconda3/envs/woopy37/lib/python3.7/site-packages/bar_chart_race/_make_chart.py\u001b[0m in \u001b[0;36mplot_bars\u001b[0;34m(self, i)\u001b[0m\n\u001b[1;32m    325\u001b[0m         \u001b[0mbar_location\u001b[0m \u001b[0;34m=\u001b[0m \u001b[0mbar_location\u001b[0m\u001b[0;34m[\u001b[0m\u001b[0mtop_filt\u001b[0m\u001b[0;34m]\u001b[0m\u001b[0;34m\u001b[0m\u001b[0;34m\u001b[0m\u001b[0m\n\u001b[0;32m--> 326\u001b[0;31m         \u001b[0mbar_length\u001b[0m \u001b[0;34m=\u001b[0m \u001b[0mself\u001b[0m\u001b[0;34m.\u001b[0m\u001b[0mdf_values\u001b[0m\u001b[0;34m.\u001b[0m\u001b[0miloc\u001b[0m\u001b[0;34m[\u001b[0m\u001b[0mi\u001b[0m\u001b[0;34m]\u001b[0m\u001b[0;34m.\u001b[0m\u001b[0mvalues\u001b[0m\u001b[0;34m[\u001b[0m\u001b[0mtop_filt\u001b[0m\u001b[0;34m]\u001b[0m\u001b[0;34m\u001b[0m\u001b[0;34m\u001b[0m\u001b[0m\n\u001b[0m\u001b[1;32m    327\u001b[0m         \u001b[0mcols\u001b[0m \u001b[0;34m=\u001b[0m \u001b[0mself\u001b[0m\u001b[0;34m.\u001b[0m\u001b[0mdf_values\u001b[0m\u001b[0;34m.\u001b[0m\u001b[0mcolumns\u001b[0m\u001b[0;34m[\u001b[0m\u001b[0mtop_filt\u001b[0m\u001b[0;34m]\u001b[0m\u001b[0;34m\u001b[0m\u001b[0;34m\u001b[0m\u001b[0m\n",
      "\u001b[0;31mIndexError\u001b[0m: boolean index did not match indexed array along dimension 0; dimension is 5 but corresponding boolean dimension is 4",
      "\nDuring handling of the above exception, another exception occurred:\n",
      "\u001b[0;31mException\u001b[0m                                 Traceback (most recent call last)",
      "\u001b[0;32m<ipython-input-11-3ddd562dfcf0>\u001b[0m in \u001b[0;36m<module>\u001b[0;34m\u001b[0m\n\u001b[0;32m----> 1\u001b[0;31m \u001b[0mbcr\u001b[0m\u001b[0;34m.\u001b[0m\u001b[0mbar_chart_race\u001b[0m\u001b[0;34m(\u001b[0m\u001b[0mdf\u001b[0m\u001b[0;34m=\u001b[0m\u001b[0mdf\u001b[0m\u001b[0;34m,\u001b[0m \u001b[0mfilename\u001b[0m\u001b[0;34m=\u001b[0m\u001b[0;32mNone\u001b[0m\u001b[0;34m)\u001b[0m\u001b[0;34m\u001b[0m\u001b[0;34m\u001b[0m\u001b[0m\n\u001b[0m",
      "\u001b[0;32m~/opt/anaconda3/envs/woopy37/lib/python3.7/site-packages/bar_chart_race/_make_chart.py\u001b[0m in \u001b[0;36mbar_chart_race\u001b[0;34m(df, filename, orientation, sort, n_bars, fixed_order, fixed_max, steps_per_period, period_length, interpolate_period, label_bars, bar_size, period_label, period_fmt, period_summary_func, perpendicular_bar_func, figsize, cmap, title, title_size, bar_label_size, tick_label_size, shared_fontdict, scale, writer, fig, dpi, bar_kwargs, filter_column_colors)\u001b[0m\n\u001b[1;32m    781\u001b[0m                         \u001b[0mfigsize\u001b[0m\u001b[0;34m,\u001b[0m \u001b[0mcmap\u001b[0m\u001b[0;34m,\u001b[0m \u001b[0mtitle\u001b[0m\u001b[0;34m,\u001b[0m \u001b[0mtitle_size\u001b[0m\u001b[0;34m,\u001b[0m \u001b[0mbar_label_size\u001b[0m\u001b[0;34m,\u001b[0m \u001b[0mtick_label_size\u001b[0m\u001b[0;34m,\u001b[0m\u001b[0;34m\u001b[0m\u001b[0;34m\u001b[0m\u001b[0m\n\u001b[1;32m    782\u001b[0m                         shared_fontdict, scale, writer, fig, dpi, bar_kwargs, filter_column_colors)\n\u001b[0;32m--> 783\u001b[0;31m     \u001b[0;32mreturn\u001b[0m \u001b[0mbcr\u001b[0m\u001b[0;34m.\u001b[0m\u001b[0mmake_animation\u001b[0m\u001b[0;34m(\u001b[0m\u001b[0;34m)\u001b[0m\u001b[0;34m\u001b[0m\u001b[0;34m\u001b[0m\u001b[0m\n\u001b[0m\u001b[1;32m    784\u001b[0m \u001b[0;34m\u001b[0m\u001b[0m\n\u001b[1;32m    785\u001b[0m \u001b[0;32mdef\u001b[0m \u001b[0mload_dataset\u001b[0m\u001b[0;34m(\u001b[0m\u001b[0mname\u001b[0m\u001b[0;34m=\u001b[0m\u001b[0;34m'covid19'\u001b[0m\u001b[0;34m)\u001b[0m\u001b[0;34m:\u001b[0m\u001b[0;34m\u001b[0m\u001b[0;34m\u001b[0m\u001b[0m\n",
      "\u001b[0;32m~/opt/anaconda3/envs/woopy37/lib/python3.7/site-packages/bar_chart_race/_make_chart.py\u001b[0m in \u001b[0;36mmake_animation\u001b[0;34m(self)\u001b[0m\n\u001b[1;32m    444\u001b[0m             \u001b[0;32melse\u001b[0m\u001b[0;34m:\u001b[0m\u001b[0;34m\u001b[0m\u001b[0;34m\u001b[0m\u001b[0m\n\u001b[1;32m    445\u001b[0m                 \u001b[0mmessage\u001b[0m \u001b[0;34m=\u001b[0m \u001b[0mstr\u001b[0m\u001b[0;34m(\u001b[0m\u001b[0me\u001b[0m\u001b[0;34m)\u001b[0m\u001b[0;34m\u001b[0m\u001b[0;34m\u001b[0m\u001b[0m\n\u001b[0;32m--> 446\u001b[0;31m             \u001b[0;32mraise\u001b[0m \u001b[0mException\u001b[0m\u001b[0;34m(\u001b[0m\u001b[0mmessage\u001b[0m\u001b[0;34m)\u001b[0m\u001b[0;34m\u001b[0m\u001b[0;34m\u001b[0m\u001b[0m\n\u001b[0m\u001b[1;32m    447\u001b[0m         \u001b[0;32mfinally\u001b[0m\u001b[0;34m:\u001b[0m\u001b[0;34m\u001b[0m\u001b[0;34m\u001b[0m\u001b[0m\n\u001b[1;32m    448\u001b[0m             \u001b[0mplt\u001b[0m\u001b[0;34m.\u001b[0m\u001b[0mrcParams\u001b[0m \u001b[0;34m=\u001b[0m \u001b[0mself\u001b[0m\u001b[0;34m.\u001b[0m\u001b[0morig_rcParams\u001b[0m\u001b[0;34m\u001b[0m\u001b[0;34m\u001b[0m\u001b[0m\n",
      "\u001b[0;31mException\u001b[0m: You do not have ffmpeg installed on your machine. Download\n                            ffmpeg from here: https://www.ffmpeg.org/download.html.\n                            \n                            Matplotlib's original error message below:\n\n                            boolean index did not match indexed array along dimension 0; dimension is 5 but corresponding boolean dimension is 4\n                            "
     ]
    }
   ],
   "source": [
    "bcr.bar_chart_race(df=df, filename=None)"
   ]
  },
  {
   "cell_type": "code",
   "execution_count": 9,
   "metadata": {},
   "outputs": [
    {
     "output_type": "error",
     "ename": "TypeError",
     "evalue": "bar_chart_race() got an unexpected keyword argument 'end_period_pause'",
     "traceback": [
      "\u001b[0;31m---------------------------------------------------------------------------\u001b[0m",
      "\u001b[0;31mTypeError\u001b[0m                                 Traceback (most recent call last)",
      "\u001b[0;32m<ipython-input-9-cfa211bb8a7a>\u001b[0m in \u001b[0;36m<module>\u001b[0;34m\u001b[0m\n\u001b[1;32m     33\u001b[0m         \u001b[0mbar_kwargs\u001b[0m\u001b[0;34m=\u001b[0m\u001b[0;34m{\u001b[0m\u001b[0;34m'alpha'\u001b[0m\u001b[0;34m:\u001b[0m \u001b[0;36m.7\u001b[0m\u001b[0;34m}\u001b[0m\u001b[0;34m,\u001b[0m\u001b[0;34m\u001b[0m\u001b[0;34m\u001b[0m\u001b[0m\n\u001b[1;32m     34\u001b[0m         \u001b[0mfig_kwargs\u001b[0m\u001b[0;34m=\u001b[0m\u001b[0;34m{\u001b[0m\u001b[0;34m'figsize'\u001b[0m\u001b[0;34m:\u001b[0m \u001b[0;34m(\u001b[0m\u001b[0;36m6\u001b[0m\u001b[0;34m,\u001b[0m \u001b[0;36m3.5\u001b[0m\u001b[0;34m)\u001b[0m\u001b[0;34m,\u001b[0m \u001b[0;34m'dpi'\u001b[0m\u001b[0;34m:\u001b[0m \u001b[0;36m144\u001b[0m\u001b[0;34m}\u001b[0m\u001b[0;34m,\u001b[0m\u001b[0;34m\u001b[0m\u001b[0;34m\u001b[0m\u001b[0m\n\u001b[0;32m---> 35\u001b[0;31m         filter_column_colors=False) \n\u001b[0m",
      "\u001b[0;31mTypeError\u001b[0m: bar_chart_race() got an unexpected keyword argument 'end_period_pause'"
     ]
    }
   ],
   "source": [
    "import bar_chart_race as bcr\n",
    "df = bcr.load_dataset('covid19_tutorial')\n",
    "bcr.bar_chart_race(\n",
    "        df=df, \n",
    "        filename='../docs/images/covid19_horiz.gif', \n",
    "        orientation='h', \n",
    "        sort='desc', \n",
    "        n_bars=8, \n",
    "        fixed_order=False, \n",
    "        fixed_max=True, \n",
    "        steps_per_period=20, \n",
    "        period_length=500, \n",
    "        end_period_pause=0,\n",
    "        interpolate_period=False, \n",
    "        period_label={'x': .98, 'y': .3, 'ha': 'right', 'va': 'center'}, \n",
    "        period_template='%B %d, %Y', \n",
    "        period_summary_func=lambda v, r: {'x': .98, 'y': .2, \n",
    "                                          's': f'Total deaths: {v.sum():,.0f}', \n",
    "                                          'ha': 'right', 'size': 11}, \n",
    "        perpendicular_bar_func='median', \n",
    "        colors='dark12', \n",
    "        title='COVID-19 Deaths by Country', \n",
    "        bar_size=.95, \n",
    "        bar_textposition='inside',\n",
    "        bar_texttemplate='{x:,.0f}', \n",
    "        bar_label_font=7, \n",
    "        tick_label_font=7, \n",
    "        tick_template='{x:,.0f}',\n",
    "        shared_fontdict=None, \n",
    "        scale='linear', \n",
    "        fig=None, \n",
    "        writer=None, \n",
    "        bar_kwargs={'alpha': .7},\n",
    "        fig_kwargs={'figsize': (6, 3.5), 'dpi': 144},\n",
    "        filter_column_colors=False) "
   ]
  },
  {
   "cell_type": "code",
   "execution_count": null,
   "metadata": {},
   "outputs": [],
   "source": []
  }
 ]
}